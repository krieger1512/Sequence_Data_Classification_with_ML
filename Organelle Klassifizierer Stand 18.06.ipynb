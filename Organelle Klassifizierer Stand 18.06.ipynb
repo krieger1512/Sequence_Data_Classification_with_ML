{
 "cells": [
  {
   "cell_type": "markdown",
   "id": "26c5a77e",
   "metadata": {},
   "source": [
    "# FoPra: Maschinelles Lernen zur Klassifizierung von Sequenzdaten\n",
    "\n",
    "**by Nick Lowack & Kien Nguyen**\n",
    "\n",
    "<a id='0'>Table of Contents (ToC):</a>\n",
    "* <a href='#1'>1. Frame the Problem and Look at the Big Picture</a>\n",
    "* <a href='#2'>2. Get the Data</a>\n",
    "* <a href='#3'>3. Explore the Data</a>\n",
    "* <a href='#4'>4. Prepare the Data</a>\n",
    "* <a href='#5'>5. Short-List Promising Models</a>\n",
    "* <a href='#6'>6. Fine-Tune the System</a>\n",
    "* <a href='#7'>7. Present the Solution</a>"
   ]
  },
  {
   "cell_type": "markdown",
   "id": "7e07fbdf",
   "metadata": {},
   "source": [
    "### Param Playground"
   ]
  },
  {
   "cell_type": "code",
   "execution_count": 1,
   "id": "4cc8cce1",
   "metadata": {},
   "outputs": [],
   "source": [
    "# Change which columns to remove here\n",
    "ATTR_TO_REMOVE = [\"Origin\"]\n",
    "\n",
    "# Change threshold for choosing top models here (value should be smaller than 1.0)\n",
    "TOP_MODEL_THRESHOLD = 0.66\n",
    "\n",
    "# Change size of the test dataset used for estimating generalization error here\n",
    "TEST_SIZE = 8.0/40.0\n",
    "\n",
    "# Change random state number here\n",
    "SEED = 42\n",
    "\n",
    "# Do we use stratified split or stratified shuffle split?\n",
    "STRATIFIED_SHUFFLE=False\n",
    "\n",
    "# Do we fix outlier?\n",
    "FIX_OUTLIER=False"
   ]
  },
  {
   "cell_type": "markdown",
   "id": "450ca4d4",
   "metadata": {},
   "source": [
    "---\n",
    "<a id='1'></a>\n",
    "## 1. Frame the Problem and Look at the Big Picture"
   ]
  },
  {
   "cell_type": "markdown",
   "id": "9d3c16ca",
   "metadata": {},
   "source": [
    "### 1.1 Define the objective in business terms"
   ]
  },
  {
   "cell_type": "markdown",
   "id": "afa1a6b3",
   "metadata": {},
   "source": [
    "* *The aim of this project is to classify given Scaffolds either as Organelle or Non-Organelle.*\n",
    "\n",
    "![Bezeichnung für die Grafik](OrganellarClassifier.png)"
   ]
  },
  {
   "cell_type": "markdown",
   "id": "7fa6a047",
   "metadata": {},
   "source": [
    "### 1.2 Frame the problem"
   ]
  },
  {
   "cell_type": "markdown",
   "id": "27849b40",
   "metadata": {},
   "source": [
    "* It is categorized as a Supervised, Batch, Model-based Learning Problem."
   ]
  },
  {
   "cell_type": "markdown",
   "id": "cb5f5741",
   "metadata": {},
   "source": [
    "### 1.3 Choose evaluation metrics"
   ]
  },
  {
   "cell_type": "markdown",
   "id": "b91c04c7",
   "metadata": {},
   "source": [
    "* Precision\n",
    "* Recall \n",
    "* F1-Score"
   ]
  },
  {
   "cell_type": "markdown",
   "id": "bdc6f402",
   "metadata": {},
   "source": [
    "### 1.4 Import necessary resources"
   ]
  },
  {
   "cell_type": "code",
   "execution_count": 2,
   "id": "4742fe2e",
   "metadata": {},
   "outputs": [],
   "source": [
    "import pandas as pd\n",
    "import numpy as np\n",
    "import seaborn as sns\n",
    "\n",
    "%matplotlib inline\n",
    "import matplotlib.pyplot as plt\n",
    "from scipy import stats\n",
    "from scipy.stats import randint\n",
    "from sklearn.model_selection import StratifiedShuffleSplit, StratifiedKFold, RandomizedSearchCV, GridSearchCV, train_test_split\n",
    "\n",
    "from sklearn.preprocessing import StandardScaler, FunctionTransformer\n",
    "from sklearn.pipeline import Pipeline\n",
    "\n",
    "from sklearn.metrics import precision_score, recall_score, f1_score, fbeta_score, make_scorer\n",
    "\n",
    "from sklearn.linear_model import SGDClassifier\n",
    "from sklearn.tree import DecisionTreeClassifier\n",
    "from sklearn.ensemble import VotingClassifier, RandomForestClassifier, GradientBoostingClassifier, AdaBoostClassifier, BaggingClassifier, ExtraTreesClassifier\n",
    "from sklearn.svm import SVC"
   ]
  },
  {
   "cell_type": "markdown",
   "id": "b1683b29",
   "metadata": {},
   "source": [
    "<a href='#0'>Back to ToC</a>"
   ]
  },
  {
   "cell_type": "markdown",
   "id": "bbfa7610",
   "metadata": {},
   "source": [
    "---\n",
    "<a id='2'></a>\n",
    "## 2. Get the Data"
   ]
  },
  {
   "cell_type": "markdown",
   "id": "10637ba6",
   "metadata": {},
   "source": [
    "### 2.1 Get and take a quick look at the data"
   ]
  },
  {
   "cell_type": "code",
   "execution_count": 3,
   "id": "a16fb60e",
   "metadata": {},
   "outputs": [
    {
     "data": {
      "text/html": [
       "<div>\n",
       "<style scoped>\n",
       "    .dataframe tbody tr th:only-of-type {\n",
       "        vertical-align: middle;\n",
       "    }\n",
       "\n",
       "    .dataframe tbody tr th {\n",
       "        vertical-align: top;\n",
       "    }\n",
       "\n",
       "    .dataframe thead th {\n",
       "        text-align: right;\n",
       "    }\n",
       "</style>\n",
       "<table border=\"1\" class=\"dataframe\">\n",
       "  <thead>\n",
       "    <tr style=\"text-align: right;\">\n",
       "      <th></th>\n",
       "      <th>tRNA</th>\n",
       "      <th>rRNA</th>\n",
       "      <th>rRNAp</th>\n",
       "      <th>Mito</th>\n",
       "      <th>Plastid</th>\n",
       "      <th>GC-dev</th>\n",
       "      <th>GC-out</th>\n",
       "      <th>GC</th>\n",
       "      <th>Len</th>\n",
       "      <th>MD</th>\n",
       "      <th>PD</th>\n",
       "      <th>Organelle</th>\n",
       "      <th>Origin</th>\n",
       "    </tr>\n",
       "    <tr>\n",
       "      <th>Scaffold</th>\n",
       "      <th></th>\n",
       "      <th></th>\n",
       "      <th></th>\n",
       "      <th></th>\n",
       "      <th></th>\n",
       "      <th></th>\n",
       "      <th></th>\n",
       "      <th></th>\n",
       "      <th></th>\n",
       "      <th></th>\n",
       "      <th></th>\n",
       "      <th></th>\n",
       "      <th></th>\n",
       "    </tr>\n",
       "  </thead>\n",
       "  <tbody>\n",
       "    <tr>\n",
       "      <th>CM017891.1</th>\n",
       "      <td>2</td>\n",
       "      <td>1</td>\n",
       "      <td>1</td>\n",
       "      <td>25</td>\n",
       "      <td>25</td>\n",
       "      <td>40.82</td>\n",
       "      <td>1</td>\n",
       "      <td>26.54</td>\n",
       "      <td>43.16</td>\n",
       "      <td>5.79</td>\n",
       "      <td>5.79</td>\n",
       "      <td>1</td>\n",
       "      <td>GCA_008330645.1</td>\n",
       "    </tr>\n",
       "    <tr>\n",
       "      <th>VLTN01000127.1</th>\n",
       "      <td>0</td>\n",
       "      <td>0</td>\n",
       "      <td>0</td>\n",
       "      <td>25</td>\n",
       "      <td>0</td>\n",
       "      <td>5.68</td>\n",
       "      <td>0</td>\n",
       "      <td>73.05</td>\n",
       "      <td>23.46</td>\n",
       "      <td>10.66</td>\n",
       "      <td>0.00</td>\n",
       "      <td>0</td>\n",
       "      <td>GCA_008330645.1</td>\n",
       "    </tr>\n",
       "    <tr>\n",
       "      <th>VLTN01000073.1</th>\n",
       "      <td>0</td>\n",
       "      <td>0</td>\n",
       "      <td>0</td>\n",
       "      <td>25</td>\n",
       "      <td>0</td>\n",
       "      <td>3.63</td>\n",
       "      <td>0</td>\n",
       "      <td>70.99</td>\n",
       "      <td>168.57</td>\n",
       "      <td>1.48</td>\n",
       "      <td>0.00</td>\n",
       "      <td>0</td>\n",
       "      <td>GCA_008330645.1</td>\n",
       "    </tr>\n",
       "    <tr>\n",
       "      <th>VLTN01000067.1</th>\n",
       "      <td>2</td>\n",
       "      <td>0</td>\n",
       "      <td>0</td>\n",
       "      <td>0</td>\n",
       "      <td>25</td>\n",
       "      <td>3.59</td>\n",
       "      <td>0</td>\n",
       "      <td>70.95</td>\n",
       "      <td>186.43</td>\n",
       "      <td>0.00</td>\n",
       "      <td>1.34</td>\n",
       "      <td>0</td>\n",
       "      <td>GCA_008330645.1</td>\n",
       "    </tr>\n",
       "    <tr>\n",
       "      <th>VLTN01000014.1</th>\n",
       "      <td>1</td>\n",
       "      <td>0</td>\n",
       "      <td>0</td>\n",
       "      <td>0</td>\n",
       "      <td>45</td>\n",
       "      <td>2.85</td>\n",
       "      <td>0</td>\n",
       "      <td>70.22</td>\n",
       "      <td>608.52</td>\n",
       "      <td>0.00</td>\n",
       "      <td>0.74</td>\n",
       "      <td>0</td>\n",
       "      <td>GCA_008330645.1</td>\n",
       "    </tr>\n",
       "  </tbody>\n",
       "</table>\n",
       "</div>"
      ],
      "text/plain": [
       "                tRNA  rRNA  rRNAp  Mito  Plastid  GC-dev  GC-out     GC  \\\n",
       "Scaffold                                                                  \n",
       "CM017891.1         2     1      1    25       25   40.82       1  26.54   \n",
       "VLTN01000127.1     0     0      0    25        0    5.68       0  73.05   \n",
       "VLTN01000073.1     0     0      0    25        0    3.63       0  70.99   \n",
       "VLTN01000067.1     2     0      0     0       25    3.59       0  70.95   \n",
       "VLTN01000014.1     1     0      0     0       45    2.85       0  70.22   \n",
       "\n",
       "                   Len     MD    PD  Organelle           Origin  \n",
       "Scaffold                                                         \n",
       "CM017891.1       43.16   5.79  5.79          1  GCA_008330645.1  \n",
       "VLTN01000127.1   23.46  10.66  0.00          0  GCA_008330645.1  \n",
       "VLTN01000073.1  168.57   1.48  0.00          0  GCA_008330645.1  \n",
       "VLTN01000067.1  186.43   0.00  1.34          0  GCA_008330645.1  \n",
       "VLTN01000014.1  608.52   0.00  0.74          0  GCA_008330645.1  "
      ]
     },
     "execution_count": 3,
     "metadata": {},
     "output_type": "execute_result"
    }
   ],
   "source": [
    "# Read the data\n",
    "df = pd.read_csv('Organelle_Classifier_4th.csv',sep=\",\", header=\"infer\", index_col = 0)\n",
    "df.head()"
   ]
  },
  {
   "cell_type": "code",
   "execution_count": 4,
   "id": "f9c5a3c2",
   "metadata": {
    "scrolled": true
   },
   "outputs": [
    {
     "name": "stdout",
     "output_type": "stream",
     "text": [
      "<class 'pandas.core.frame.DataFrame'>\n",
      "Index: 10849 entries, CM017891.1 to NC_053517.1\n",
      "Data columns (total 13 columns):\n",
      " #   Column     Non-Null Count  Dtype  \n",
      "---  ------     --------------  -----  \n",
      " 0   tRNA       10849 non-null  int64  \n",
      " 1   rRNA       10849 non-null  int64  \n",
      " 2   rRNAp      10849 non-null  int64  \n",
      " 3   Mito       10849 non-null  int64  \n",
      " 4   Plastid    10849 non-null  int64  \n",
      " 5   GC-dev     10849 non-null  float64\n",
      " 6   GC-out     10849 non-null  int64  \n",
      " 7   GC         10849 non-null  float64\n",
      " 8   Len        10849 non-null  float64\n",
      " 9   MD         10849 non-null  float64\n",
      " 10  PD         10849 non-null  float64\n",
      " 11  Organelle  10849 non-null  int64  \n",
      " 12  Origin     10849 non-null  object \n",
      "dtypes: float64(5), int64(7), object(1)\n",
      "memory usage: 1.2+ MB\n"
     ]
    }
   ],
   "source": [
    "# Print a concise summary of the data\n",
    "df.info()"
   ]
  },
  {
   "cell_type": "code",
   "execution_count": 5,
   "id": "fa506171",
   "metadata": {
    "scrolled": false
   },
   "outputs": [
    {
     "name": "stdout",
     "output_type": "stream",
     "text": [
      "0    10809\n",
      "1       40\n",
      "Name: Organelle, dtype: int64\n"
     ]
    }
   ],
   "source": [
    "# How many samples does each label class have in the data?\n",
    "print(df[\"Organelle\"].value_counts())"
   ]
  },
  {
   "cell_type": "code",
   "execution_count": 6,
   "id": "784b5ac8",
   "metadata": {},
   "outputs": [
    {
     "name": "stdout",
     "output_type": "stream",
     "text": [
      "0    0.996313\n",
      "1    0.003687\n",
      "Name: Organelle, dtype: float64\n"
     ]
    }
   ],
   "source": [
    "# What is the share (proportion) of each label class in the data?\n",
    "print(df[\"Organelle\"].value_counts()/len(df))"
   ]
  },
  {
   "cell_type": "markdown",
   "id": "d2460c76",
   "metadata": {},
   "source": [
    "### 2.2 Sample and put aside a test set"
   ]
  },
  {
   "cell_type": "code",
   "execution_count": 7,
   "id": "62261aff",
   "metadata": {
    "scrolled": true
   },
   "outputs": [],
   "source": [
    "# Split the data using stratified sampling strategy\n",
    "X = df.drop(\"Organelle\", axis=1)\n",
    "y = df[\"Organelle\"]\n",
    "\n",
    "if not STRATIFIED_SHUFFLE:\n",
    "    X_train, X_test, y_train, y_test = train_test_split(X, y, stratify=y, test_size=TEST_SIZE)\n",
    "else:\n",
    "    sss = StratifiedShuffleSplit(n_splits=1, test_size=TEST_SIZE, random_state=SEED)\n",
    "    for train_index, test_index in sss.split(X, y):\n",
    "        strat_train_set = df.iloc[train_index]\n",
    "        strat_test_set = df.iloc[test_index]\n",
    "    X_train = strat_train_set.drop(\"Organelle\", axis=1)\n",
    "    y_train = strat_train_set[\"Organelle\"]\n",
    "    X_test = strat_test_set.drop(\"Organelle\", axis=1)\n",
    "    y_test = strat_test_set[\"Organelle\"]"
   ]
  },
  {
   "cell_type": "code",
   "execution_count": 8,
   "id": "a5166508",
   "metadata": {},
   "outputs": [
    {
     "name": "stdout",
     "output_type": "stream",
     "text": [
      "0    8647\n",
      "1      32\n",
      "Name: Organelle, dtype: int64\n",
      "0    0.996313\n",
      "1    0.003687\n",
      "Name: Organelle, dtype: float64\n"
     ]
    }
   ],
   "source": [
    "# Check if the training data is evenly split\n",
    "print(y_train.value_counts())\n",
    "print(y_train.value_counts()/len(y_train))"
   ]
  },
  {
   "cell_type": "code",
   "execution_count": 9,
   "id": "c31aeda9",
   "metadata": {},
   "outputs": [
    {
     "name": "stdout",
     "output_type": "stream",
     "text": [
      "0    2162\n",
      "1       8\n",
      "Name: Organelle, dtype: int64\n",
      "0    0.996313\n",
      "1    0.003687\n",
      "Name: Organelle, dtype: float64\n"
     ]
    }
   ],
   "source": [
    "# Check if the test data is evenly split\n",
    "print(y_test.value_counts())\n",
    "print(y_test.value_counts()/len(y_test))"
   ]
  },
  {
   "cell_type": "markdown",
   "id": "6b066836",
   "metadata": {},
   "source": [
    "<a href='#0'>Back to ToC</a>"
   ]
  },
  {
   "cell_type": "markdown",
   "id": "b34cf4cb",
   "metadata": {},
   "source": [
    "---\n",
    "<a id='3'></a>\n",
    "## 3. Explore the Data"
   ]
  },
  {
   "cell_type": "markdown",
   "id": "07aacc15",
   "metadata": {},
   "source": [
    "### 3.1 Create a copy of the data for exploration"
   ]
  },
  {
   "cell_type": "code",
   "execution_count": 10,
   "id": "699481ac",
   "metadata": {},
   "outputs": [],
   "source": [
    "scaffolds = df.copy()"
   ]
  },
  {
   "cell_type": "markdown",
   "id": "31f12c57",
   "metadata": {},
   "source": [
    "### 3.2 Study characteristics of attributes"
   ]
  },
  {
   "cell_type": "code",
   "execution_count": 11,
   "id": "e4d29d6f",
   "metadata": {
    "scrolled": true
   },
   "outputs": [
    {
     "data": {
      "text/html": [
       "<div>\n",
       "<style scoped>\n",
       "    .dataframe tbody tr th:only-of-type {\n",
       "        vertical-align: middle;\n",
       "    }\n",
       "\n",
       "    .dataframe tbody tr th {\n",
       "        vertical-align: top;\n",
       "    }\n",
       "\n",
       "    .dataframe thead th {\n",
       "        text-align: right;\n",
       "    }\n",
       "</style>\n",
       "<table border=\"1\" class=\"dataframe\">\n",
       "  <thead>\n",
       "    <tr style=\"text-align: right;\">\n",
       "      <th></th>\n",
       "      <th>tRNA</th>\n",
       "      <th>rRNA</th>\n",
       "      <th>rRNAp</th>\n",
       "      <th>Mito</th>\n",
       "      <th>Plastid</th>\n",
       "      <th>GC-dev</th>\n",
       "      <th>GC-out</th>\n",
       "      <th>GC</th>\n",
       "      <th>Len</th>\n",
       "      <th>MD</th>\n",
       "      <th>PD</th>\n",
       "      <th>Organelle</th>\n",
       "    </tr>\n",
       "  </thead>\n",
       "  <tbody>\n",
       "    <tr>\n",
       "      <th>count</th>\n",
       "      <td>10849.000000</td>\n",
       "      <td>10849.000000</td>\n",
       "      <td>10849.000000</td>\n",
       "      <td>10849.000000</td>\n",
       "      <td>10849.000000</td>\n",
       "      <td>10849.000000</td>\n",
       "      <td>10849.000000</td>\n",
       "      <td>10849.000000</td>\n",
       "      <td>10849.000000</td>\n",
       "      <td>10849.000000</td>\n",
       "      <td>10849.000000</td>\n",
       "      <td>10849.000000</td>\n",
       "    </tr>\n",
       "    <tr>\n",
       "      <th>mean</th>\n",
       "      <td>1.160383</td>\n",
       "      <td>2.995207</td>\n",
       "      <td>0.836759</td>\n",
       "      <td>10.978062</td>\n",
       "      <td>14.781823</td>\n",
       "      <td>5.575803</td>\n",
       "      <td>0.222970</td>\n",
       "      <td>41.404179</td>\n",
       "      <td>1237.222125</td>\n",
       "      <td>7.963515</td>\n",
       "      <td>12.744518</td>\n",
       "      <td>0.003687</td>\n",
       "    </tr>\n",
       "    <tr>\n",
       "      <th>std</th>\n",
       "      <td>29.592514</td>\n",
       "      <td>21.604973</td>\n",
       "      <td>31.586685</td>\n",
       "      <td>58.937200</td>\n",
       "      <td>113.189582</td>\n",
       "      <td>6.642307</td>\n",
       "      <td>0.416257</td>\n",
       "      <td>9.509727</td>\n",
       "      <td>12352.600329</td>\n",
       "      <td>45.934178</td>\n",
       "      <td>65.454652</td>\n",
       "      <td>0.060611</td>\n",
       "    </tr>\n",
       "    <tr>\n",
       "      <th>min</th>\n",
       "      <td>0.000000</td>\n",
       "      <td>0.000000</td>\n",
       "      <td>0.000000</td>\n",
       "      <td>0.000000</td>\n",
       "      <td>0.000000</td>\n",
       "      <td>0.000000</td>\n",
       "      <td>0.000000</td>\n",
       "      <td>0.420000</td>\n",
       "      <td>0.200000</td>\n",
       "      <td>0.000000</td>\n",
       "      <td>0.000000</td>\n",
       "      <td>0.000000</td>\n",
       "    </tr>\n",
       "    <tr>\n",
       "      <th>25%</th>\n",
       "      <td>0.000000</td>\n",
       "      <td>0.000000</td>\n",
       "      <td>0.000000</td>\n",
       "      <td>0.000000</td>\n",
       "      <td>0.000000</td>\n",
       "      <td>1.510000</td>\n",
       "      <td>0.000000</td>\n",
       "      <td>37.050000</td>\n",
       "      <td>1.340000</td>\n",
       "      <td>0.000000</td>\n",
       "      <td>0.000000</td>\n",
       "      <td>0.000000</td>\n",
       "    </tr>\n",
       "    <tr>\n",
       "      <th>50%</th>\n",
       "      <td>0.000000</td>\n",
       "      <td>1.000000</td>\n",
       "      <td>0.000000</td>\n",
       "      <td>0.000000</td>\n",
       "      <td>0.000000</td>\n",
       "      <td>2.790000</td>\n",
       "      <td>0.000000</td>\n",
       "      <td>42.170000</td>\n",
       "      <td>1.900000</td>\n",
       "      <td>0.000000</td>\n",
       "      <td>0.000000</td>\n",
       "      <td>0.000000</td>\n",
       "    </tr>\n",
       "    <tr>\n",
       "      <th>75%</th>\n",
       "      <td>0.000000</td>\n",
       "      <td>4.000000</td>\n",
       "      <td>0.000000</td>\n",
       "      <td>1.000000</td>\n",
       "      <td>0.000000</td>\n",
       "      <td>6.620000</td>\n",
       "      <td>0.000000</td>\n",
       "      <td>44.070000</td>\n",
       "      <td>17.280000</td>\n",
       "      <td>0.060000</td>\n",
       "      <td>0.000000</td>\n",
       "      <td>0.000000</td>\n",
       "    </tr>\n",
       "    <tr>\n",
       "      <th>max</th>\n",
       "      <td>3007.000000</td>\n",
       "      <td>1659.000000</td>\n",
       "      <td>3265.000000</td>\n",
       "      <td>1745.000000</td>\n",
       "      <td>3365.000000</td>\n",
       "      <td>40.820000</td>\n",
       "      <td>1.000000</td>\n",
       "      <td>73.250000</td>\n",
       "      <td>474425.720000</td>\n",
       "      <td>1050.420000</td>\n",
       "      <td>1237.620000</td>\n",
       "      <td>1.000000</td>\n",
       "    </tr>\n",
       "  </tbody>\n",
       "</table>\n",
       "</div>"
      ],
      "text/plain": [
       "               tRNA          rRNA         rRNAp          Mito       Plastid  \\\n",
       "count  10849.000000  10849.000000  10849.000000  10849.000000  10849.000000   \n",
       "mean       1.160383      2.995207      0.836759     10.978062     14.781823   \n",
       "std       29.592514     21.604973     31.586685     58.937200    113.189582   \n",
       "min        0.000000      0.000000      0.000000      0.000000      0.000000   \n",
       "25%        0.000000      0.000000      0.000000      0.000000      0.000000   \n",
       "50%        0.000000      1.000000      0.000000      0.000000      0.000000   \n",
       "75%        0.000000      4.000000      0.000000      1.000000      0.000000   \n",
       "max     3007.000000   1659.000000   3265.000000   1745.000000   3365.000000   \n",
       "\n",
       "             GC-dev        GC-out            GC            Len            MD  \\\n",
       "count  10849.000000  10849.000000  10849.000000   10849.000000  10849.000000   \n",
       "mean       5.575803      0.222970     41.404179    1237.222125      7.963515   \n",
       "std        6.642307      0.416257      9.509727   12352.600329     45.934178   \n",
       "min        0.000000      0.000000      0.420000       0.200000      0.000000   \n",
       "25%        1.510000      0.000000     37.050000       1.340000      0.000000   \n",
       "50%        2.790000      0.000000     42.170000       1.900000      0.000000   \n",
       "75%        6.620000      0.000000     44.070000      17.280000      0.060000   \n",
       "max       40.820000      1.000000     73.250000  474425.720000   1050.420000   \n",
       "\n",
       "                 PD     Organelle  \n",
       "count  10849.000000  10849.000000  \n",
       "mean      12.744518      0.003687  \n",
       "std       65.454652      0.060611  \n",
       "min        0.000000      0.000000  \n",
       "25%        0.000000      0.000000  \n",
       "50%        0.000000      0.000000  \n",
       "75%        0.000000      0.000000  \n",
       "max     1237.620000      1.000000  "
      ]
     },
     "execution_count": 11,
     "metadata": {},
     "output_type": "execute_result"
    }
   ],
   "source": [
    "# Get statistics of numerical columns\n",
    "scaffolds.describe()"
   ]
  },
  {
   "cell_type": "code",
   "execution_count": 12,
   "id": "01c65357",
   "metadata": {},
   "outputs": [],
   "source": [
    "def plot_count_histogram_of(feature, df):\n",
    "    \"\"\"\n",
    "    A function that plots histograms of the given feature for each label class.\n",
    "    The x-axes in the first-row histograms depicts the value range of the given feature of Organelle scaffolds.\n",
    "    \"\"\"\n",
    "    \n",
    "    df_no = df[df[\"Organelle\"]==0]\n",
    "    df_yes = df[df[\"Organelle\"]==1]\n",
    "    \n",
    "    \n",
    "    df_yes_feature_min = df_yes[feature].min()\n",
    "    df_yes_feature_max = df_yes[feature].max()\n",
    "    width = (df_yes_feature_max-df_yes_feature_min)/len(df_yes[feature].unique())\n",
    "#     nr_of_df_no_samples_in_df_yes_feature_range = len(df_no[(df_no[feature]<=df_yes_feature_max) & (df_no[feature]>=df_yes_feature_min)])\n",
    "    \n",
    "    \n",
    "    fig, axes = plt.subplots(ncols=2, nrows=2, figsize=(20, 14))\n",
    "    sns.histplot(data=df_no, x=feature, ax=axes[0][0], color='steelblue', binwidth=width)\n",
    "    sns.histplot(data=df_yes, x=feature, ax=axes[0][1], color='darkorange', binwidth=width)\n",
    "    sns.histplot(data=df_no, x=feature, ax=axes[1][0], color='steelblue', bins=50)\n",
    "    \n",
    "    \n",
    "    xlabel = \"Organelle Scaffolds's \"+ feature + \" range of values\"\n",
    "    \n",
    "    axes[0][0].set_ylabel('#Scaffold')\n",
    "    axes[0][0].set_xlabel(xlabel)\n",
    "    axes[0][0].set_title('Non-Organelle')\n",
    "    axes[0][0].axis(xmin=0,xmax=df_yes_feature_max)\n",
    "#     axes[0][0].axis(ymin=0,\n",
    "#                     ymax=max(df_no[(df_no[feature]<=df_yes_feature_max) & (df_no[feature]>=df_yes_feature_min)].value_counts().to_dict().values()))\n",
    "    \n",
    "    axes[0][1].set_ylabel('#Scaffold')\n",
    "    axes[0][1].set_xlabel(xlabel)\n",
    "    axes[0][1].set_title('Organelle')\n",
    "    \n",
    "    axes[1][0].set_ylabel('#Scaffold')\n",
    "    axes[1][0].set_xlabel(\"The range of values of \"+feature)\n",
    "    axes[1][0].set_title('Non-Organelle')\n",
    "    \n",
    "    fig.suptitle(feature, fontsize=20)\n",
    "    fig.tight_layout()"
   ]
  },
  {
   "cell_type": "code",
   "execution_count": 13,
   "id": "7152ecae",
   "metadata": {},
   "outputs": [
    {
     "data": {
      "image/png": "[encoded data removed]",
      "text/plain": [
       "<Figure size 1440x1008 with 4 Axes>"
      ]
     },
     "metadata": {
      "needs_background": "light"
     },
     "output_type": "display_data"
    }
   ],
   "source": [
    "plot_count_histogram_of(\"tRNA\", scaffolds)"
   ]
  },
  {
   "cell_type": "code",
   "execution_count": 14,
   "id": "0ddb03a1",
   "metadata": {},
   "outputs": [
    {
     "data": {
      "image/png": "[encoded data removed]",
      "text/plain": [
       "<Figure size 1440x1008 with 4 Axes>"
      ]
     },
     "metadata": {
      "needs_background": "light"
     },
     "output_type": "display_data"
    }
   ],
   "source": [
    "plot_count_histogram_of(\"rRNA\", scaffolds)"
   ]
  },
  {
   "cell_type": "code",
   "execution_count": 15,
   "id": "9214159a",
   "metadata": {},
   "outputs": [
    {
     "data": {
      "image/png": "[encoded data removed]",
      "text/plain": [
       "<Figure size 1440x1008 with 4 Axes>"
      ]
     },
     "metadata": {
      "needs_background": "light"
     },
     "output_type": "display_data"
    }
   ],
   "source": [
    "plot_count_histogram_of(\"rRNAp\", scaffolds)"
   ]
  },
  {
   "cell_type": "code",
   "execution_count": 16,
   "id": "5df5d99f",
   "metadata": {},
   "outputs": [
    {
     "data": {
      "image/png": "[encoded data removed]",
      "text/plain": [
       "<Figure size 1440x1008 with 4 Axes>"
      ]
     },
     "metadata": {
      "needs_background": "light"
     },
     "output_type": "display_data"
    }
   ],
   "source": [
    "plot_count_histogram_of(\"Mito\", scaffolds)"
   ]
  },
  {
   "cell_type": "code",
   "execution_count": 17,
   "id": "6304b4cd",
   "metadata": {},
   "outputs": [
    {
     "data": {
      "image/png": "[encoded data removed]",
      "text/plain": [
       "<Figure size 1440x1008 with 4 Axes>"
      ]
     },
     "metadata": {
      "needs_background": "light"
     },
     "output_type": "display_data"
    }
   ],
   "source": [
    "plot_count_histogram_of(\"Plastid\", scaffolds)"
   ]
  },
  {
   "cell_type": "code",
   "execution_count": 18,
   "id": "46f401c8",
   "metadata": {},
   "outputs": [
    {
     "data": {
      "image/png": "[encoded data removed]",
      "text/plain": [
       "<Figure size 1440x1008 with 4 Axes>"
      ]
     },
     "metadata": {
      "needs_background": "light"
     },
     "output_type": "display_data"
    }
   ],
   "source": [
    "plot_count_histogram_of(\"GC-dev\", scaffolds)"
   ]
  },
  {
   "cell_type": "code",
   "execution_count": 19,
   "id": "332e4ae7",
   "metadata": {},
   "outputs": [
    {
     "data": {
      "image/png": "[encoded data removed]",
      "text/plain": [
       "<Figure size 1440x1008 with 4 Axes>"
      ]
     },
     "metadata": {
      "needs_background": "light"
     },
     "output_type": "display_data"
    }
   ],
   "source": [
    "plot_count_histogram_of(\"GC-out\", scaffolds)"
   ]
  },
  {
   "cell_type": "code",
   "execution_count": 20,
   "id": "d8562499",
   "metadata": {},
   "outputs": [
    {
     "data": {
      "image/png": "[encoded data removed]",
      "text/plain": [
       "<Figure size 1440x1008 with 4 Axes>"
      ]
     },
     "metadata": {
      "needs_background": "light"
     },
     "output_type": "display_data"
    }
   ],
   "source": [
    "plot_count_histogram_of(\"GC\", scaffolds)"
   ]
  },
  {
   "cell_type": "code",
   "execution_count": 21,
   "id": "fe3965fc",
   "metadata": {},
   "outputs": [
    {
     "data": {
      "image/png": "[encoded data removed]",
      "text/plain": [
       "<Figure size 1440x1008 with 4 Axes>"
      ]
     },
     "metadata": {
      "needs_background": "light"
     },
     "output_type": "display_data"
    }
   ],
   "source": [
    "plot_count_histogram_of(\"Len\", scaffolds)"
   ]
  },
  {
   "cell_type": "code",
   "execution_count": 22,
   "id": "b44995d1",
   "metadata": {},
   "outputs": [
    {
     "data": {
      "image/png": "[encoded data removed]",
      "text/plain": [
       "<Figure size 1440x1008 with 4 Axes>"
      ]
     },
     "metadata": {
      "needs_background": "light"
     },
     "output_type": "display_data"
    }
   ],
   "source": [
    "plot_count_histogram_of(\"MD\", scaffolds)"
   ]
  },
  {
   "cell_type": "code",
   "execution_count": 23,
   "id": "b6f4806b",
   "metadata": {},
   "outputs": [
    {
     "data": {
      "image/png": "[encoded data removed]",
      "text/plain": [
       "<Figure size 1440x1008 with 4 Axes>"
      ]
     },
     "metadata": {
      "needs_background": "light"
     },
     "output_type": "display_data"
    }
   ],
   "source": [
    "plot_count_histogram_of(\"PD\", scaffolds)"
   ]
  },
  {
   "cell_type": "markdown",
   "id": "19116469",
   "metadata": {},
   "source": [
    "### 3.3 Identify outliers and non-outliers"
   ]
  },
  {
   "cell_type": "code",
   "execution_count": 24,
   "id": "f84ff35a",
   "metadata": {},
   "outputs": [
    {
     "data": {
      "text/html": [
       "<div>\n",
       "<style scoped>\n",
       "    .dataframe tbody tr th:only-of-type {\n",
       "        vertical-align: middle;\n",
       "    }\n",
       "\n",
       "    .dataframe tbody tr th {\n",
       "        vertical-align: top;\n",
       "    }\n",
       "\n",
       "    .dataframe thead th {\n",
       "        text-align: right;\n",
       "    }\n",
       "</style>\n",
       "<table border=\"1\" class=\"dataframe\">\n",
       "  <thead>\n",
       "    <tr style=\"text-align: right;\">\n",
       "      <th></th>\n",
       "      <th>tRNA</th>\n",
       "      <th>rRNA</th>\n",
       "      <th>rRNAp</th>\n",
       "      <th>Mito</th>\n",
       "      <th>Plastid</th>\n",
       "      <th>GC-dev</th>\n",
       "      <th>GC-out</th>\n",
       "      <th>GC</th>\n",
       "      <th>Len</th>\n",
       "      <th>MD</th>\n",
       "      <th>PD</th>\n",
       "      <th>Organelle</th>\n",
       "      <th>Origin</th>\n",
       "    </tr>\n",
       "    <tr>\n",
       "      <th>Scaffold</th>\n",
       "      <th></th>\n",
       "      <th></th>\n",
       "      <th></th>\n",
       "      <th></th>\n",
       "      <th></th>\n",
       "      <th></th>\n",
       "      <th></th>\n",
       "      <th></th>\n",
       "      <th></th>\n",
       "      <th></th>\n",
       "      <th></th>\n",
       "      <th></th>\n",
       "      <th></th>\n",
       "    </tr>\n",
       "  </thead>\n",
       "  <tbody>\n",
       "    <tr>\n",
       "      <th>CM017891.1</th>\n",
       "      <td>2</td>\n",
       "      <td>1</td>\n",
       "      <td>1</td>\n",
       "      <td>25</td>\n",
       "      <td>25</td>\n",
       "      <td>40.82</td>\n",
       "      <td>1</td>\n",
       "      <td>26.54</td>\n",
       "      <td>43.16</td>\n",
       "      <td>5.79</td>\n",
       "      <td>5.79</td>\n",
       "      <td>1</td>\n",
       "      <td>GCA_008330645.1</td>\n",
       "    </tr>\n",
       "    <tr>\n",
       "      <th>NC_007115.7</th>\n",
       "      <td>3007</td>\n",
       "      <td>77</td>\n",
       "      <td>3265</td>\n",
       "      <td>524</td>\n",
       "      <td>161</td>\n",
       "      <td>0.33</td>\n",
       "      <td>0</td>\n",
       "      <td>36.57</td>\n",
       "      <td>78093.72</td>\n",
       "      <td>0.07</td>\n",
       "      <td>0.02</td>\n",
       "      <td>0</td>\n",
       "      <td>GCA_000002035.4</td>\n",
       "    </tr>\n",
       "    <tr>\n",
       "      <th>NC_050104.1</th>\n",
       "      <td>27</td>\n",
       "      <td>3</td>\n",
       "      <td>3</td>\n",
       "      <td>1745</td>\n",
       "      <td>1952</td>\n",
       "      <td>2.14</td>\n",
       "      <td>0</td>\n",
       "      <td>46.81</td>\n",
       "      <td>163004.74</td>\n",
       "      <td>0.11</td>\n",
       "      <td>0.12</td>\n",
       "      <td>0</td>\n",
       "      <td>GCA_902167145.1</td>\n",
       "    </tr>\n",
       "    <tr>\n",
       "      <th>NC_050096.1</th>\n",
       "      <td>61</td>\n",
       "      <td>7</td>\n",
       "      <td>5</td>\n",
       "      <td>1328</td>\n",
       "      <td>3365</td>\n",
       "      <td>2.17</td>\n",
       "      <td>0</td>\n",
       "      <td>46.84</td>\n",
       "      <td>308452.47</td>\n",
       "      <td>0.04</td>\n",
       "      <td>0.11</td>\n",
       "      <td>0</td>\n",
       "      <td>GCA_902167145.1</td>\n",
       "    </tr>\n",
       "    <tr>\n",
       "      <th>NC_044931.1</th>\n",
       "      <td>43</td>\n",
       "      <td>1659</td>\n",
       "      <td>203</td>\n",
       "      <td>838</td>\n",
       "      <td>593</td>\n",
       "      <td>11.26</td>\n",
       "      <td>1</td>\n",
       "      <td>22.52</td>\n",
       "      <td>18351.53</td>\n",
       "      <td>0.46</td>\n",
       "      <td>0.32</td>\n",
       "      <td>0</td>\n",
       "      <td>GCA_003576645.1</td>\n",
       "    </tr>\n",
       "    <tr>\n",
       "      <th>NW_017600905.1</th>\n",
       "      <td>1</td>\n",
       "      <td>0</td>\n",
       "      <td>0</td>\n",
       "      <td>0</td>\n",
       "      <td>0</td>\n",
       "      <td>32.37</td>\n",
       "      <td>1</td>\n",
       "      <td>73.25</td>\n",
       "      <td>0.50</td>\n",
       "      <td>0.00</td>\n",
       "      <td>0.00</td>\n",
       "      <td>0</td>\n",
       "      <td>GCF_000511025</td>\n",
       "    </tr>\n",
       "    <tr>\n",
       "      <th>NW_013650074.1</th>\n",
       "      <td>0</td>\n",
       "      <td>0</td>\n",
       "      <td>0</td>\n",
       "      <td>0</td>\n",
       "      <td>25</td>\n",
       "      <td>10.39</td>\n",
       "      <td>1</td>\n",
       "      <td>47.03</td>\n",
       "      <td>0.20</td>\n",
       "      <td>0.00</td>\n",
       "      <td>1237.62</td>\n",
       "      <td>0</td>\n",
       "      <td>GCF_000695525</td>\n",
       "    </tr>\n",
       "    <tr>\n",
       "      <th>NW_013644999.1</th>\n",
       "      <td>0</td>\n",
       "      <td>0</td>\n",
       "      <td>0</td>\n",
       "      <td>25</td>\n",
       "      <td>0</td>\n",
       "      <td>8.91</td>\n",
       "      <td>0</td>\n",
       "      <td>27.73</td>\n",
       "      <td>0.24</td>\n",
       "      <td>1050.42</td>\n",
       "      <td>0.00</td>\n",
       "      <td>0</td>\n",
       "      <td>GCF_000695525</td>\n",
       "    </tr>\n",
       "    <tr>\n",
       "      <th>NC_035108.1</th>\n",
       "      <td>184</td>\n",
       "      <td>49</td>\n",
       "      <td>2</td>\n",
       "      <td>1226</td>\n",
       "      <td>1219</td>\n",
       "      <td>0.66</td>\n",
       "      <td>0</td>\n",
       "      <td>37.88</td>\n",
       "      <td>474425.72</td>\n",
       "      <td>0.03</td>\n",
       "      <td>0.03</td>\n",
       "      <td>0</td>\n",
       "      <td>GCF_002204515</td>\n",
       "    </tr>\n",
       "  </tbody>\n",
       "</table>\n",
       "</div>"
      ],
      "text/plain": [
       "                tRNA  rRNA  rRNAp  Mito  Plastid  GC-dev  GC-out     GC  \\\n",
       "Scaffold                                                                  \n",
       "CM017891.1         2     1      1    25       25   40.82       1  26.54   \n",
       "NC_007115.7     3007    77   3265   524      161    0.33       0  36.57   \n",
       "NC_050104.1       27     3      3  1745     1952    2.14       0  46.81   \n",
       "NC_050096.1       61     7      5  1328     3365    2.17       0  46.84   \n",
       "NC_044931.1       43  1659    203   838      593   11.26       1  22.52   \n",
       "NW_017600905.1     1     0      0     0        0   32.37       1  73.25   \n",
       "NW_013650074.1     0     0      0     0       25   10.39       1  47.03   \n",
       "NW_013644999.1     0     0      0    25        0    8.91       0  27.73   \n",
       "NC_035108.1      184    49      2  1226     1219    0.66       0  37.88   \n",
       "\n",
       "                      Len       MD       PD  Organelle           Origin  \n",
       "Scaffold                                                                 \n",
       "CM017891.1          43.16     5.79     5.79          1  GCA_008330645.1  \n",
       "NC_007115.7      78093.72     0.07     0.02          0  GCA_000002035.4  \n",
       "NC_050104.1     163004.74     0.11     0.12          0  GCA_902167145.1  \n",
       "NC_050096.1     308452.47     0.04     0.11          0  GCA_902167145.1  \n",
       "NC_044931.1      18351.53     0.46     0.32          0  GCA_003576645.1  \n",
       "NW_017600905.1       0.50     0.00     0.00          0    GCF_000511025  \n",
       "NW_013650074.1       0.20     0.00  1237.62          0    GCF_000695525  \n",
       "NW_013644999.1       0.24  1050.42     0.00          0    GCF_000695525  \n",
       "NC_035108.1     474425.72     0.03     0.03          0    GCF_002204515  "
      ]
     },
     "execution_count": 24,
     "metadata": {},
     "output_type": "execute_result"
    }
   ],
   "source": [
    "# Which scaffolds have maximum values in any of its features?\n",
    "max_indices=scaffolds.drop([\"Origin\",\"Organelle\"],axis=1).idxmax(axis=0)\n",
    "scaffolds[scaffolds.index.isin(max_indices)]"
   ]
  },
  {
   "cell_type": "code",
   "execution_count": 25,
   "id": "c24bc5e1",
   "metadata": {},
   "outputs": [],
   "source": [
    "# What are the indices of the outliers and non-outliers?\n",
    "\n",
    "OUTLIER_METHOD = \"Z\" # \"Z\" or \"IQR\"\n",
    "IQR_CONSTANT = 3\n",
    "Z_THRESHOLD = 3\n",
    "\n",
    "def get_lower_upper_bounds(datacolumn, iqr_constant):\n",
    "    sorted(datacolumn)\n",
    "    Q1,Q3 = np.percentile(datacolumn , [25,75])\n",
    "    IQR = Q3 - Q1\n",
    "    lower_range = Q1 - (iqr_constant * IQR)\n",
    "    upper_range = Q3 + (iqr_constant * IQR)\n",
    "    return lower_range, upper_range\n",
    "\n",
    "def get_outlier_and_nonOutlier_indices(method, data):\n",
    "    data_num = data.drop([\"Len\",\"Origin\",\"Organelle\",\"MD\",\"PD\"], axis=1)\n",
    "    if method == \"IQR\":\n",
    "        outlier_indices = pd.Index([])\n",
    "        for col in data_num.columns:\n",
    "            datacolumn = data_num[col]\n",
    "            lower_bound, upper_bound = get_lower_upper_bounds(datacolumn, IQR_CONSTANT)\n",
    "            outlier_indices = outlier_indices.union(data_num[(data_num[col] < lower_bound) | (data_num[col] > upper_bound)].index)\n",
    "        non_outlier_indices = [x for x in df.index if x not in outlier_indices]    \n",
    "    elif method == \"Z\":\n",
    "        non_outlier_indices = data_num[(np.abs(stats.zscore(data_num)) < Z_THRESHOLD).all(axis=1)].index\n",
    "        outlier_indices = [x for x in df.index if x not in non_outlier_indices]\n",
    "    return outlier_indices, non_outlier_indices\n",
    "\n",
    "outlier_indices, non_outlier_indices = get_outlier_and_nonOutlier_indices(OUTLIER_METHOD, scaffolds)"
   ]
  },
  {
   "cell_type": "code",
   "execution_count": 26,
   "id": "a3904643",
   "metadata": {},
   "outputs": [
    {
     "data": {
      "text/plain": [
       "0    10428\n",
       "1       34\n",
       "Name: Organelle, dtype: int64"
      ]
     },
     "execution_count": 26,
     "metadata": {},
     "output_type": "execute_result"
    }
   ],
   "source": [
    "# How many Organelle and Non-Organelle scaffolds are left after the outliers are removed?\n",
    "scaffolds[scaffolds.index.isin(non_outlier_indices)][\"Organelle\"].value_counts()"
   ]
  },
  {
   "cell_type": "code",
   "execution_count": 27,
   "id": "e525d07a",
   "metadata": {},
   "outputs": [
    {
     "data": {
      "text/html": [
       "<div>\n",
       "<style scoped>\n",
       "    .dataframe tbody tr th:only-of-type {\n",
       "        vertical-align: middle;\n",
       "    }\n",
       "\n",
       "    .dataframe tbody tr th {\n",
       "        vertical-align: top;\n",
       "    }\n",
       "\n",
       "    .dataframe thead th {\n",
       "        text-align: right;\n",
       "    }\n",
       "</style>\n",
       "<table border=\"1\" class=\"dataframe\">\n",
       "  <thead>\n",
       "    <tr style=\"text-align: right;\">\n",
       "      <th></th>\n",
       "      <th>tRNA</th>\n",
       "      <th>rRNA</th>\n",
       "      <th>rRNAp</th>\n",
       "      <th>Mito</th>\n",
       "      <th>Plastid</th>\n",
       "      <th>GC-dev</th>\n",
       "      <th>GC-out</th>\n",
       "      <th>GC</th>\n",
       "      <th>Len</th>\n",
       "      <th>MD</th>\n",
       "      <th>PD</th>\n",
       "      <th>Organelle</th>\n",
       "      <th>Origin</th>\n",
       "    </tr>\n",
       "    <tr>\n",
       "      <th>Scaffold</th>\n",
       "      <th></th>\n",
       "      <th></th>\n",
       "      <th></th>\n",
       "      <th></th>\n",
       "      <th></th>\n",
       "      <th></th>\n",
       "      <th></th>\n",
       "      <th></th>\n",
       "      <th></th>\n",
       "      <th></th>\n",
       "      <th></th>\n",
       "      <th></th>\n",
       "      <th></th>\n",
       "    </tr>\n",
       "  </thead>\n",
       "  <tbody>\n",
       "    <tr>\n",
       "      <th>CM017891.1</th>\n",
       "      <td>2</td>\n",
       "      <td>1</td>\n",
       "      <td>1</td>\n",
       "      <td>25</td>\n",
       "      <td>25</td>\n",
       "      <td>40.82</td>\n",
       "      <td>1</td>\n",
       "      <td>26.54</td>\n",
       "      <td>43.16</td>\n",
       "      <td>5.79</td>\n",
       "      <td>5.79</td>\n",
       "      <td>1</td>\n",
       "      <td>GCA_008330645.1</td>\n",
       "    </tr>\n",
       "    <tr>\n",
       "      <th>BK010421.1</th>\n",
       "      <td>4</td>\n",
       "      <td>2</td>\n",
       "      <td>2</td>\n",
       "      <td>652</td>\n",
       "      <td>314</td>\n",
       "      <td>7.50</td>\n",
       "      <td>1</td>\n",
       "      <td>44.79</td>\n",
       "      <td>367.81</td>\n",
       "      <td>17.73</td>\n",
       "      <td>8.54</td>\n",
       "      <td>1</td>\n",
       "      <td>GCA_000001735.2</td>\n",
       "    </tr>\n",
       "    <tr>\n",
       "      <th>AP000423.1</th>\n",
       "      <td>4</td>\n",
       "      <td>6</td>\n",
       "      <td>6</td>\n",
       "      <td>271</td>\n",
       "      <td>400</td>\n",
       "      <td>1.00</td>\n",
       "      <td>0</td>\n",
       "      <td>36.29</td>\n",
       "      <td>154.48</td>\n",
       "      <td>17.54</td>\n",
       "      <td>25.89</td>\n",
       "      <td>1</td>\n",
       "      <td>GCA_000001735.2</td>\n",
       "    </tr>\n",
       "    <tr>\n",
       "      <th>NC_034696.1</th>\n",
       "      <td>6</td>\n",
       "      <td>6</td>\n",
       "      <td>3</td>\n",
       "      <td>263</td>\n",
       "      <td>400</td>\n",
       "      <td>0.49</td>\n",
       "      <td>0</td>\n",
       "      <td>36.77</td>\n",
       "      <td>157.72</td>\n",
       "      <td>16.67</td>\n",
       "      <td>25.36</td>\n",
       "      <td>1</td>\n",
       "      <td>GCA_902201215.1</td>\n",
       "    </tr>\n",
       "    <tr>\n",
       "      <th>NC_001666.2</th>\n",
       "      <td>3</td>\n",
       "      <td>6</td>\n",
       "      <td>6</td>\n",
       "      <td>240</td>\n",
       "      <td>375</td>\n",
       "      <td>6.21</td>\n",
       "      <td>1</td>\n",
       "      <td>38.46</td>\n",
       "      <td>140.38</td>\n",
       "      <td>17.10</td>\n",
       "      <td>26.71</td>\n",
       "      <td>1</td>\n",
       "      <td>GCA_902167145.1</td>\n",
       "    </tr>\n",
       "    <tr>\n",
       "      <th>NC_007982.1</th>\n",
       "      <td>5</td>\n",
       "      <td>3</td>\n",
       "      <td>3</td>\n",
       "      <td>743</td>\n",
       "      <td>495</td>\n",
       "      <td>0.74</td>\n",
       "      <td>0</td>\n",
       "      <td>43.93</td>\n",
       "      <td>569.63</td>\n",
       "      <td>13.04</td>\n",
       "      <td>8.69</td>\n",
       "      <td>1</td>\n",
       "      <td>GCA_902167145.1</td>\n",
       "    </tr>\n",
       "  </tbody>\n",
       "</table>\n",
       "</div>"
      ],
      "text/plain": [
       "             tRNA  rRNA  rRNAp  Mito  Plastid  GC-dev  GC-out     GC     Len  \\\n",
       "Scaffold                                                                       \n",
       "CM017891.1      2     1      1    25       25   40.82       1  26.54   43.16   \n",
       "BK010421.1      4     2      2   652      314    7.50       1  44.79  367.81   \n",
       "AP000423.1      4     6      6   271      400    1.00       0  36.29  154.48   \n",
       "NC_034696.1     6     6      3   263      400    0.49       0  36.77  157.72   \n",
       "NC_001666.2     3     6      6   240      375    6.21       1  38.46  140.38   \n",
       "NC_007982.1     5     3      3   743      495    0.74       0  43.93  569.63   \n",
       "\n",
       "                MD     PD  Organelle           Origin  \n",
       "Scaffold                                               \n",
       "CM017891.1    5.79   5.79          1  GCA_008330645.1  \n",
       "BK010421.1   17.73   8.54          1  GCA_000001735.2  \n",
       "AP000423.1   17.54  25.89          1  GCA_000001735.2  \n",
       "NC_034696.1  16.67  25.36          1  GCA_902201215.1  \n",
       "NC_001666.2  17.10  26.71          1  GCA_902167145.1  \n",
       "NC_007982.1  13.04   8.69          1  GCA_902167145.1  "
      ]
     },
     "execution_count": 27,
     "metadata": {},
     "output_type": "execute_result"
    }
   ],
   "source": [
    "# Which of the outliers are Organelle Scaffolds?\n",
    "scaffolds[scaffolds.index.isin(outlier_indices) & scaffolds[\"Organelle\"]==1]"
   ]
  },
  {
   "cell_type": "markdown",
   "id": "a0fa8dd0",
   "metadata": {},
   "source": [
    "### 3.4 Study the correlations between attributes"
   ]
  },
  {
   "cell_type": "code",
   "execution_count": 28,
   "id": "24fe2e63",
   "metadata": {},
   "outputs": [
    {
     "data": {
      "image/png": "[encoded data removed]",
      "text/plain": [
       "<Figure size 432x288 with 2 Axes>"
      ]
     },
     "metadata": {
      "needs_background": "light"
     },
     "output_type": "display_data"
    }
   ],
   "source": [
    "# Heatmap\n",
    "ax = sns.heatmap(scaffolds.corr(), vmin=-1, vmax=1, center=0, square=True)\n",
    "ax.set_xticklabels(ax.get_xticklabels(), rotation=45, horizontalalignment='right');"
   ]
  },
  {
   "cell_type": "code",
   "execution_count": 29,
   "id": "c57b329f",
   "metadata": {},
   "outputs": [
    {
     "data": {
      "text/plain": [
       "Organelle    1.000000\n",
       "Mito         0.091089\n",
       "GC-out       0.058756\n",
       "Plastid      0.042564\n",
       "GC-dev       0.040273\n",
       "MD           0.008847\n",
       "rRNAp        0.001855\n",
       "PD           0.001610\n",
       "tRNA         0.001212\n",
       "rRNA        -0.003084\n",
       "Len         -0.005648\n",
       "GC          -0.069938\n",
       "Name: Organelle, dtype: float64"
      ]
     },
     "execution_count": 29,
     "metadata": {},
     "output_type": "execute_result"
    }
   ],
   "source": [
    "# Correlation coefficients of all columns to \"Organelle\" in descending order\n",
    "scaffolds.corr()['Organelle'].sort_values(ascending=False)"
   ]
  },
  {
   "cell_type": "markdown",
   "id": "9a28f859",
   "metadata": {},
   "source": [
    "### 3.5 Document what you have learned"
   ]
  },
  {
   "cell_type": "markdown",
   "id": "199bcb1f",
   "metadata": {},
   "source": [
    "* **Irrelevantes Attribut**: Das Attribut \"Origin\" ist für die Klassifizierungsaufgabe irrelevant und sollte daher entfernt werden.\n",
    "* **Ausreißer**: Die Entfernung der Ausreißer der ganzen Daten führt zu der Entfernung von 14 Organelle-Scaffolds.\n",
    "* **Attribute mit niedrigen Korrelationen zur Spalte \"Organelle\"**: Obwohl die Korrelationskoeffizienten von \"tRNA\" und \"rRNAp\" trivial sind, kann man aus biologischen Hintergrund die beiden nicht entfernen."
   ]
  },
  {
   "cell_type": "markdown",
   "id": "20189810",
   "metadata": {},
   "source": [
    "### 3.6 Identify promising transformations to apply"
   ]
  },
  {
   "cell_type": "markdown",
   "id": "89ba4b73",
   "metadata": {},
   "source": [
    "* Drop \"Origin\"\n",
    "* Fix Outliers in all columns except \"Len\" (Optional)\n",
    "* Standardize all attributes"
   ]
  },
  {
   "cell_type": "markdown",
   "id": "03d650f5",
   "metadata": {},
   "source": [
    "<a href='#0'>Back to ToC</a>"
   ]
  },
  {
   "cell_type": "markdown",
   "id": "260ba017",
   "metadata": {},
   "source": [
    "---\n",
    "<a id='4'></a>\n",
    "## 4. Prepare the Data"
   ]
  },
  {
   "cell_type": "code",
   "execution_count": 30,
   "id": "d3eae09f",
   "metadata": {},
   "outputs": [],
   "source": [
    "# Work on copies of the training data\n",
    "scaffolds_predictors = X_train.copy()\n",
    "scaffolds_label = y_train.copy()"
   ]
  },
  {
   "cell_type": "markdown",
   "id": "5ee3e0ff",
   "metadata": {},
   "source": [
    "### 4.1 Feature selection"
   ]
  },
  {
   "cell_type": "code",
   "execution_count": 31,
   "id": "c1bbb2f8",
   "metadata": {},
   "outputs": [],
   "source": [
    "# List attributes that need to be removed\n",
    "attributes_to_remove = ATTR_TO_REMOVE"
   ]
  },
  {
   "cell_type": "code",
   "execution_count": 32,
   "id": "bc5eadeb",
   "metadata": {},
   "outputs": [],
   "source": [
    "# Define a function that remove those attributes\n",
    "def remove_attr(data, attr_to_remove=attributes_to_remove, remove_attr=True):\n",
    "    if remove_attr:\n",
    "        return data.drop(attr_to_remove, axis=1)\n",
    "    else:\n",
    "        return data"
   ]
  },
  {
   "cell_type": "markdown",
   "id": "995c2cbd",
   "metadata": {},
   "source": [
    "### 4.2 Data cleaning"
   ]
  },
  {
   "cell_type": "code",
   "execution_count": 33,
   "id": "8eee7026",
   "metadata": {},
   "outputs": [],
   "source": [
    "# List all attributes that will be excluded when searching for outliers\n",
    "excluded_attributes = [\"Len\"]\n",
    "\n",
    "# define a threshold for calculating Z-Score\n",
    "z_threshold = 3"
   ]
  },
  {
   "cell_type": "code",
   "execution_count": 34,
   "id": "d44605ee",
   "metadata": {},
   "outputs": [],
   "source": [
    "# Define a function that replaces outlier values with those that are three Standard Deviations away from the Mean\n",
    "def replace_outlier(val, mean, std, z_thresh):\n",
    "    if val > mean + z_thresh*std:\n",
    "        return mean + z_thresh*std \n",
    "    elif val < mean - z_thresh*std:\n",
    "        return mean - z_thresh*std\n",
    "    return val"
   ]
  },
  {
   "cell_type": "code",
   "execution_count": 35,
   "id": "2f837671",
   "metadata": {},
   "outputs": [],
   "source": [
    "# Define a function that fixes outliers (by replacing them with other statistical values)\n",
    "# Since after removing \"Origin\" our data will contain only numerical attr, we do not need to filter out categorical attr\n",
    "def fix_outliers(data, excluded_attr=excluded_attributes, fix_outlier=FIX_OUTLIER, z_thresh=z_threshold):\n",
    "    if fix_outlier:\n",
    "        data_filtered = data.drop(excluded_attr, axis=1)\n",
    "        data_excluded = data[excluded_attr]\n",
    "        for col in data_filtered.columns:\n",
    "            mean = data_filtered[col].mean()\n",
    "            std_dev = data_filtered[col].std(axis=0)\n",
    "            data_filtered[col] = data_filtered[col].map(lambda x: replace_outlier(x, mean, std_dev, z_thresh))\n",
    "        return data_filtered.merge(data_excluded, left_index=True, right_index=True)\n",
    "    else:\n",
    "        return data"
   ]
  },
  {
   "cell_type": "markdown",
   "id": "f89d12c1",
   "metadata": {},
   "source": [
    "### 4.3 Feature scaling"
   ]
  },
  {
   "cell_type": "markdown",
   "id": "1dafff78",
   "metadata": {},
   "source": [
    "A function that standardizes features is already available from [```sklearn.preprocessing.StandardScaler()```](https://scikit-learn.org/stable/modules/generated/sklearn.preprocessing.StandardScaler.html)"
   ]
  },
  {
   "cell_type": "markdown",
   "id": "3b30f40d",
   "metadata": {},
   "source": [
    "### 4.4 Transformation Pipeline"
   ]
  },
  {
   "cell_type": "code",
   "execution_count": 36,
   "id": "0e74f171",
   "metadata": {},
   "outputs": [],
   "source": [
    "# Define a pipeline that transforms the predictor data after the steps (functions) listed above\n",
    "# Activation Vector: 1-0-1\n",
    "full_pipeline = Pipeline([\n",
    "      ('attr_remover', FunctionTransformer(remove_attr, validate=False)),\n",
    "      ('outlier_fixer', FunctionTransformer(fix_outliers, validate=False)),\n",
    "      ('std_scaler', StandardScaler())\n",
    "   ])"
   ]
  },
  {
   "cell_type": "code",
   "execution_count": 37,
   "id": "b322944c",
   "metadata": {},
   "outputs": [
    {
     "data": {
      "text/plain": [
       "array([[-5.73456962e-03, -2.89944112e-03, -2.59496776e-02, ...,\n",
       "         3.04390712e-02, -1.74484368e-01, -1.89296867e-01],\n",
       "       [-3.61379476e-02,  3.89016378e-02, -2.59496776e-02, ...,\n",
       "        -9.93711504e-02, -1.74484368e-01, -1.95902042e-01],\n",
       "       [-3.61379476e-02, -1.28302678e-01, -2.59496776e-02, ...,\n",
       "        -9.94803983e-02, -1.74484368e-01,  1.04418093e+01],\n",
       "       ...,\n",
       "       [-3.61379476e-02, -1.28302678e-01, -2.59496776e-02, ...,\n",
       "        -9.90256221e-02, -1.74484368e-01,  4.74446427e-01],\n",
       "       [-3.61379476e-02, -1.28302678e-01, -2.59496776e-02, ...,\n",
       "        -9.85877837e-02, -1.54844316e-01, -1.81770040e-01],\n",
       "       [-3.61379476e-02, -1.28302678e-01, -2.59496776e-02, ...,\n",
       "        -9.94007913e-02,  3.94352216e+00, -1.95902042e-01]])"
      ]
     },
     "execution_count": 37,
     "metadata": {},
     "output_type": "execute_result"
    }
   ],
   "source": [
    "# Transform the training predictor data\n",
    "scaffolds_predictors_prepared = full_pipeline.fit_transform(scaffolds_predictors)\n",
    "scaffolds_predictors_prepared"
   ]
  },
  {
   "cell_type": "code",
   "execution_count": 38,
   "id": "5403c116",
   "metadata": {},
   "outputs": [
    {
     "data": {
      "text/plain": [
       "(8679, 11)"
      ]
     },
     "execution_count": 38,
     "metadata": {},
     "output_type": "execute_result"
    }
   ],
   "source": [
    "# Dimensions of the data after transformation\n",
    "scaffolds_predictors_prepared.shape"
   ]
  },
  {
   "cell_type": "markdown",
   "id": "874a085a",
   "metadata": {},
   "source": [
    "<a href='#0'>Back to ToC</a>"
   ]
  },
  {
   "cell_type": "markdown",
   "id": "76275e1f",
   "metadata": {},
   "source": [
    "---\n",
    "<a id='5'></a>\n",
    "## 5. Shortlist Promising Models"
   ]
  },
  {
   "cell_type": "markdown",
   "id": "44f3a3fc",
   "metadata": {},
   "source": [
    "### 5.1 Train many quick and dirty models from different categories"
   ]
  },
  {
   "cell_type": "code",
   "execution_count": 51,
   "id": "6f914f7e",
   "metadata": {},
   "outputs": [],
   "source": [
    "# Initialize a lookup dictionary for the models\n",
    "models = {}"
   ]
  },
  {
   "cell_type": "markdown",
   "id": "ee4db3cf",
   "metadata": {},
   "source": [
    "#### AdaBoost"
   ]
  },
  {
   "cell_type": "code",
   "execution_count": 52,
   "id": "08ad1aa9",
   "metadata": {},
   "outputs": [],
   "source": [
    "ab_clf = AdaBoostClassifier(random_state=SEED)\n",
    "models['AdaBoost'] = ab_clf"
   ]
  },
  {
   "cell_type": "markdown",
   "id": "06396342",
   "metadata": {},
   "source": [
    "#### Bagging"
   ]
  },
  {
   "cell_type": "code",
   "execution_count": 53,
   "id": "7863d6af",
   "metadata": {},
   "outputs": [],
   "source": [
    "bagging = BaggingClassifier(random_state=SEED)\n",
    "models['Bagging'] = bagging"
   ]
  },
  {
   "cell_type": "markdown",
   "id": "920945d4",
   "metadata": {},
   "source": [
    "#### Decision Tree"
   ]
  },
  {
   "cell_type": "code",
   "execution_count": 54,
   "id": "bc3d6eec",
   "metadata": {},
   "outputs": [],
   "source": [
    "tree_clf =  DecisionTreeClassifier(random_state=SEED)\n",
    "models['Decision Tree'] = tree_clf"
   ]
  },
  {
   "cell_type": "markdown",
   "id": "55f30b9b",
   "metadata": {},
   "source": [
    "#### Extra Trees"
   ]
  },
  {
   "cell_type": "code",
   "execution_count": 55,
   "id": "e5614aa2",
   "metadata": {},
   "outputs": [],
   "source": [
    "extra_trees = ExtraTreesClassifier(random_state=SEED)\n",
    "models['Extra Trees'] = extra_trees"
   ]
  },
  {
   "cell_type": "markdown",
   "id": "5c7a2c39",
   "metadata": {},
   "source": [
    "#### Gradient Tree Boosting"
   ]
  },
  {
   "cell_type": "code",
   "execution_count": 56,
   "id": "69833d47",
   "metadata": {},
   "outputs": [],
   "source": [
    "gb_clf = GradientBoostingClassifier(random_state=SEED)\n",
    "models['Gradient Boosting'] = gb_clf"
   ]
  },
  {
   "cell_type": "markdown",
   "id": "527bef82",
   "metadata": {},
   "source": [
    "#### Random Forest"
   ]
  },
  {
   "cell_type": "code",
   "execution_count": 57,
   "id": "e6999672",
   "metadata": {},
   "outputs": [],
   "source": [
    "forest_clf =  RandomForestClassifier(random_state=SEED)\n",
    "models['Random Forest'] = forest_clf"
   ]
  },
  {
   "cell_type": "markdown",
   "id": "b2fd53ba",
   "metadata": {},
   "source": [
    "### 5.2 Measure and compare their performance"
   ]
  },
  {
   "cell_type": "markdown",
   "id": "b94f5a64",
   "metadata": {},
   "source": [
    "* For each model, use stratified k-fold cross validation to split the given data and measure the performance of the model on the k folds\n",
    "* The final score of each model will be the average of the performance measurements on all k folds"
   ]
  },
  {
   "cell_type": "code",
   "execution_count": 58,
   "id": "c1a3ef94",
   "metadata": {},
   "outputs": [],
   "source": [
    "# Define a function that measures the performance of the given model on the k folds split from the given data\n",
    "def performance_score(model, features, label, k_fold=5):\n",
    "    precision_scores, recall_scores, f1_scores, predictions = [], [], [], []\n",
    "    skf = StratifiedKFold(n_splits=k_fold, shuffle=True, random_state=SEED)\n",
    "    X = features\n",
    "    y = label.values\n",
    "    for train_index, test_index in skf.split(X,y):\n",
    "        X_train, X_test = X[train_index], X[test_index]\n",
    "        y_train, y_test = y[train_index], y[test_index]\n",
    "        model.fit(X_train, y_train)\n",
    "        y_predict = model.predict(X_test)\n",
    "        predictions.append(y_predict)    \n",
    "        precision_scores.append(precision_score(y_test,y_predict))\n",
    "        recall_scores.append(recall_score(y_test,y_predict))\n",
    "        f1_scores.append(f1_score(y_test,y_predict))\n",
    "    return precision_scores, recall_scores, f1_scores, predictions"
   ]
  },
  {
   "cell_type": "code",
   "execution_count": 59,
   "id": "014881d0",
   "metadata": {},
   "outputs": [],
   "source": [
    "# Define a function that calculates the final score of each model\n",
    "def model_scores(pos_models, features, label):\n",
    "    precision_means, recall_means, f1_means = [], [], []\n",
    "    for model in pos_models.values():\n",
    "        precisions, recalls, f1s, preds = performance_score(model, features, label)\n",
    "        precision_means.append(np.array(precisions).mean())\n",
    "        recall_means.append(np.array(recalls).mean())\n",
    "        f1_means.append(np.array(f1s).mean())\n",
    "    result = pd.DataFrame({\"Model\":pos_models.keys(), \"Precision\":precision_means, \"Recall\":recall_means, \"F1-Score\":f1_means})\n",
    "    return result"
   ]
  },
  {
   "cell_type": "code",
   "execution_count": 60,
   "id": "3c6ca73e",
   "metadata": {},
   "outputs": [],
   "source": [
    "# Ignore warnings to have a clearer output\n",
    "import warnings\n",
    "warnings.filterwarnings('ignore')\n",
    "\n",
    "# Measure performance of all models\n",
    "measured_performance = model_scores(models, scaffolds_predictors_prepared, scaffolds_label)\n",
    "# measured_performance"
   ]
  },
  {
   "cell_type": "code",
   "execution_count": 61,
   "id": "ca8ac89e",
   "metadata": {},
   "outputs": [
    {
     "data": {
      "text/html": [
       "<div>\n",
       "<style scoped>\n",
       "    .dataframe tbody tr th:only-of-type {\n",
       "        vertical-align: middle;\n",
       "    }\n",
       "\n",
       "    .dataframe tbody tr th {\n",
       "        vertical-align: top;\n",
       "    }\n",
       "\n",
       "    .dataframe thead th {\n",
       "        text-align: right;\n",
       "    }\n",
       "</style>\n",
       "<table border=\"1\" class=\"dataframe\">\n",
       "  <thead>\n",
       "    <tr style=\"text-align: right;\">\n",
       "      <th></th>\n",
       "      <th>Model</th>\n",
       "      <th>Precision</th>\n",
       "      <th>Recall</th>\n",
       "      <th>F1-Score</th>\n",
       "    </tr>\n",
       "  </thead>\n",
       "  <tbody>\n",
       "    <tr>\n",
       "      <th>3</th>\n",
       "      <td>Extra Trees</td>\n",
       "      <td>0.933333</td>\n",
       "      <td>0.642857</td>\n",
       "      <td>0.733333</td>\n",
       "    </tr>\n",
       "    <tr>\n",
       "      <th>0</th>\n",
       "      <td>AdaBoost</td>\n",
       "      <td>0.833333</td>\n",
       "      <td>0.590476</td>\n",
       "      <td>0.676923</td>\n",
       "    </tr>\n",
       "    <tr>\n",
       "      <th>1</th>\n",
       "      <td>Bagging</td>\n",
       "      <td>0.826190</td>\n",
       "      <td>0.557143</td>\n",
       "      <td>0.645934</td>\n",
       "    </tr>\n",
       "    <tr>\n",
       "      <th>5</th>\n",
       "      <td>Random Forest</td>\n",
       "      <td>0.960000</td>\n",
       "      <td>0.519048</td>\n",
       "      <td>0.641758</td>\n",
       "    </tr>\n",
       "    <tr>\n",
       "      <th>4</th>\n",
       "      <td>Gradient Boosting</td>\n",
       "      <td>0.753333</td>\n",
       "      <td>0.561905</td>\n",
       "      <td>0.629841</td>\n",
       "    </tr>\n",
       "    <tr>\n",
       "      <th>2</th>\n",
       "      <td>Decision Tree</td>\n",
       "      <td>0.559242</td>\n",
       "      <td>0.657143</td>\n",
       "      <td>0.589540</td>\n",
       "    </tr>\n",
       "  </tbody>\n",
       "</table>\n",
       "</div>"
      ],
      "text/plain": [
       "               Model  Precision    Recall  F1-Score\n",
       "3        Extra Trees   0.933333  0.642857  0.733333\n",
       "0           AdaBoost   0.833333  0.590476  0.676923\n",
       "1            Bagging   0.826190  0.557143  0.645934\n",
       "5      Random Forest   0.960000  0.519048  0.641758\n",
       "4  Gradient Boosting   0.753333  0.561905  0.629841\n",
       "2      Decision Tree   0.559242  0.657143  0.589540"
      ]
     },
     "execution_count": 61,
     "metadata": {},
     "output_type": "execute_result"
    }
   ],
   "source": [
    "# Ranking models from best to worst using F1-score\n",
    "measured_performance.sort_values(by=\"F1-Score\", ascending=False)"
   ]
  },
  {
   "cell_type": "markdown",
   "id": "387eedf3",
   "metadata": {},
   "source": [
    "[Was bedeuten die obigen Warnungen?](https://stackoverflow.com/questions/54150147/classification-report-precision-and-f-score-are-ill-defined)"
   ]
  },
  {
   "cell_type": "markdown",
   "id": "6c89a984",
   "metadata": {},
   "source": [
    "### 5.3 Get the top models"
   ]
  },
  {
   "cell_type": "code",
   "execution_count": 62,
   "id": "3d25a7d4",
   "metadata": {},
   "outputs": [],
   "source": [
    "# Define a function that returns models whose performances measured in the given metric are higher than the given threshold \n",
    "def get_top_models(models, measured_performance, metric, threshold):\n",
    "    top_performance = measured_performance[measured_performance[metric] > threshold]\n",
    "    top_models = {}\n",
    "    for name in top_performance[\"Model\"].values:\n",
    "        top_models[name] = models[name]\n",
    "    return top_models"
   ]
  },
  {
   "cell_type": "code",
   "execution_count": 63,
   "id": "83652c41",
   "metadata": {},
   "outputs": [
    {
     "data": {
      "text/plain": [
       "{'AdaBoost': AdaBoostClassifier(random_state=42),\n",
       " 'Extra Trees': ExtraTreesClassifier(random_state=42)}"
      ]
     },
     "execution_count": 63,
     "metadata": {},
     "output_type": "execute_result"
    }
   ],
   "source": [
    "top_models = get_top_models(models, measured_performance, \"F1-Score\", TOP_MODEL_THRESHOLD)\n",
    "top_models"
   ]
  },
  {
   "cell_type": "markdown",
   "id": "85c1d946",
   "metadata": {},
   "source": [
    "<a href='#0'>Back to ToC</a>"
   ]
  },
  {
   "cell_type": "markdown",
   "id": "8f353638",
   "metadata": {},
   "source": [
    "---\n",
    "<a id='6'></a>\n",
    "## 6. Fine-Tune the System"
   ]
  },
  {
   "cell_type": "markdown",
   "id": "ff02b904",
   "metadata": {},
   "source": [
    "### 6.1 Fine-tune the hyperparameters using cross-validation"
   ]
  },
  {
   "cell_type": "markdown",
   "id": "8840c39f",
   "metadata": {},
   "source": [
    "* Treat your data transformation choices as hyperparameters, especially when you are not sure about them\n",
    "* Unless there are very few hyperparameter values to explore, prefer random search over grid search"
   ]
  },
  {
   "cell_type": "code",
   "execution_count": 64,
   "id": "e0b69df5",
   "metadata": {},
   "outputs": [],
   "source": [
    "# Initialize a dict to store fine-tuned models\n",
    "rnd_fine_tuned_models = {}\n",
    "grid_fine_tuned_models = {}\n",
    "\n",
    "# Define the parameters for Randomized & Grid Search\n",
    "RND_SEARCH_N_ITER = 50\n",
    "CV_FOLDS = 5\n",
    "test_scorer = make_scorer(fbeta_score, beta=1)"
   ]
  },
  {
   "cell_type": "code",
   "execution_count": 65,
   "id": "9db2a923",
   "metadata": {},
   "outputs": [],
   "source": [
    "# Define a function that prints out the scores (and hyperparameters) of all estimators in the randomized search\n",
    "def print_cv_scores(cvres):\n",
    "    for rank_score, mean_score, params in zip(cvres[\"rank_test_score\"], cvres[\"mean_test_score\"], cvres[\"params\"]):\n",
    "        print(\"Rank:\", rank_score, \"- Mean test score:\", mean_score, \"\\nWith hyperparameters:\", params)"
   ]
  },
  {
   "cell_type": "markdown",
   "id": "4ddc2430",
   "metadata": {},
   "source": [
    "#### AdaBoost"
   ]
  },
  {
   "cell_type": "code",
   "execution_count": 66,
   "id": "b68ad15f",
   "metadata": {
    "scrolled": true
   },
   "outputs": [
    {
     "name": "stdout",
     "output_type": "stream",
     "text": [
      "Rank: 1 - Mean test score: 0.5836052836052835 \n",
      "With hyperparameters: {'base_estimator': DecisionTreeClassifier(), 'learning_rate': 2.0, 'n_estimators': 421}\n",
      "Rank: 1 - Mean test score: 0.5836052836052835 \n",
      "With hyperparameters: {'base_estimator': DecisionTreeClassifier(), 'learning_rate': 1.5, 'n_estimators': 676}\n",
      "Rank: 1 - Mean test score: 0.5836052836052835 \n",
      "With hyperparameters: {'base_estimator': DecisionTreeClassifier(), 'learning_rate': 0.5, 'n_estimators': 683}\n",
      "Rank: 1 - Mean test score: 0.5836052836052835 \n",
      "With hyperparameters: {'base_estimator': DecisionTreeClassifier(), 'learning_rate': 0.5, 'n_estimators': 84}\n",
      "Rank: 1 - Mean test score: 0.5836052836052835 \n",
      "With hyperparameters: {'base_estimator': DecisionTreeClassifier(), 'learning_rate': 1.5, 'n_estimators': 774}\n",
      "Rank: 1 - Mean test score: 0.5836052836052835 \n",
      "With hyperparameters: {'base_estimator': DecisionTreeClassifier(), 'learning_rate': 2.0, 'n_estimators': 171}\n",
      "Rank: 1 - Mean test score: 0.5836052836052835 \n",
      "With hyperparameters: {'base_estimator': DecisionTreeClassifier(), 'learning_rate': 2.0, 'n_estimators': 521}\n",
      "Rank: 1 - Mean test score: 0.5836052836052835 \n",
      "With hyperparameters: {'base_estimator': DecisionTreeClassifier(), 'learning_rate': 1.0, 'n_estimators': 507}\n",
      "Rank: 1 - Mean test score: 0.5836052836052835 \n",
      "With hyperparameters: {'base_estimator': DecisionTreeClassifier(), 'learning_rate': 2.0, 'n_estimators': 184}\n",
      "Rank: 1 - Mean test score: 0.5836052836052835 \n",
      "With hyperparameters: {'base_estimator': DecisionTreeClassifier(), 'learning_rate': 1.5, 'n_estimators': 175}\n",
      "Rank: 1 - Mean test score: 0.5836052836052835 \n",
      "With hyperparameters: {'base_estimator': DecisionTreeClassifier(), 'learning_rate': 1.5, 'n_estimators': 149}\n",
      "Rank: 1 - Mean test score: 0.5836052836052835 \n",
      "With hyperparameters: {'base_estimator': DecisionTreeClassifier(), 'learning_rate': 1.5, 'n_estimators': 151}\n",
      "Rank: 1 - Mean test score: 0.5836052836052835 \n",
      "With hyperparameters: {'base_estimator': DecisionTreeClassifier(), 'learning_rate': 0.5, 'n_estimators': 119}\n",
      "Rank: 1 - Mean test score: 0.5836052836052835 \n",
      "With hyperparameters: {'base_estimator': DecisionTreeClassifier(), 'learning_rate': 1.0, 'n_estimators': 118}\n",
      "Rank: 1 - Mean test score: 0.5836052836052835 \n",
      "With hyperparameters: {'base_estimator': DecisionTreeClassifier(), 'learning_rate': 1.0, 'n_estimators': 754}\n",
      "Rank: 1 - Mean test score: 0.5836052836052835 \n",
      "With hyperparameters: {'base_estimator': DecisionTreeClassifier(), 'learning_rate': 0.5, 'n_estimators': 311}\n",
      "Rank: 1 - Mean test score: 0.5836052836052835 \n",
      "With hyperparameters: {'base_estimator': DecisionTreeClassifier(), 'learning_rate': 0.5, 'n_estimators': 673}\n",
      "Rank: 1 - Mean test score: 0.5836052836052835 \n",
      "With hyperparameters: {'base_estimator': DecisionTreeClassifier(), 'learning_rate': 1.5, 'n_estimators': 663}\n",
      "Rank: 1 - Mean test score: 0.5836052836052835 \n",
      "With hyperparameters: {'base_estimator': DecisionTreeClassifier(), 'learning_rate': 0.5, 'n_estimators': 150}\n",
      "Rank: 1 - Mean test score: 0.5836052836052835 \n",
      "With hyperparameters: {'base_estimator': DecisionTreeClassifier(), 'learning_rate': 2.0, 'n_estimators': 63}\n",
      "Rank: 1 - Mean test score: 0.5836052836052835 \n",
      "With hyperparameters: {'base_estimator': DecisionTreeClassifier(), 'learning_rate': 1.0, 'n_estimators': 518}\n",
      "Rank: 1 - Mean test score: 0.5836052836052835 \n",
      "With hyperparameters: {'base_estimator': DecisionTreeClassifier(), 'learning_rate': 0.5, 'n_estimators': 169}\n",
      "Rank: 1 - Mean test score: 0.5836052836052835 \n",
      "With hyperparameters: {'base_estimator': DecisionTreeClassifier(), 'learning_rate': 1.5, 'n_estimators': 248}\n",
      "Rank: 1 - Mean test score: 0.5836052836052835 \n",
      "With hyperparameters: {'base_estimator': DecisionTreeClassifier(), 'learning_rate': 1.5, 'n_estimators': 271}\n",
      "Rank: 1 - Mean test score: 0.5836052836052835 \n",
      "With hyperparameters: {'base_estimator': DecisionTreeClassifier(), 'learning_rate': 1.0, 'n_estimators': 423}\n",
      "Rank: 1 - Mean test score: 0.5836052836052835 \n",
      "With hyperparameters: {'base_estimator': DecisionTreeClassifier(), 'learning_rate': 1.5, 'n_estimators': 64}\n",
      "Rank: 1 - Mean test score: 0.5836052836052835 \n",
      "With hyperparameters: {'base_estimator': DecisionTreeClassifier(), 'learning_rate': 1.0, 'n_estimators': 565}\n",
      "Rank: 1 - Mean test score: 0.5836052836052835 \n",
      "With hyperparameters: {'base_estimator': DecisionTreeClassifier(), 'learning_rate': 2.0, 'n_estimators': 548}\n",
      "Rank: 1 - Mean test score: 0.5836052836052835 \n",
      "With hyperparameters: {'base_estimator': DecisionTreeClassifier(), 'learning_rate': 2.0, 'n_estimators': 778}\n",
      "Rank: 1 - Mean test score: 0.5836052836052835 \n",
      "With hyperparameters: {'base_estimator': DecisionTreeClassifier(), 'learning_rate': 1.5, 'n_estimators': 500}\n",
      "Rank: 1 - Mean test score: 0.5836052836052835 \n",
      "With hyperparameters: {'base_estimator': DecisionTreeClassifier(), 'learning_rate': 2.0, 'n_estimators': 661}\n",
      "Rank: 1 - Mean test score: 0.5836052836052835 \n",
      "With hyperparameters: {'base_estimator': DecisionTreeClassifier(), 'learning_rate': 1.5, 'n_estimators': 195}\n",
      "Rank: 1 - Mean test score: 0.5836052836052835 \n",
      "With hyperparameters: {'base_estimator': DecisionTreeClassifier(), 'learning_rate': 1.0, 'n_estimators': 408}\n",
      "Rank: 1 - Mean test score: 0.5836052836052835 \n",
      "With hyperparameters: {'base_estimator': DecisionTreeClassifier(), 'learning_rate': 1.5, 'n_estimators': 250}\n",
      "Rank: 1 - Mean test score: 0.5836052836052835 \n",
      "With hyperparameters: {'base_estimator': DecisionTreeClassifier(), 'learning_rate': 0.5, 'n_estimators': 481}\n",
      "Rank: 1 - Mean test score: 0.5836052836052835 \n",
      "With hyperparameters: {'base_estimator': DecisionTreeClassifier(), 'learning_rate': 1.0, 'n_estimators': 139}\n",
      "Rank: 1 - Mean test score: 0.5836052836052835 \n",
      "With hyperparameters: {'base_estimator': DecisionTreeClassifier(), 'learning_rate': 1.0, 'n_estimators': 388}\n",
      "Rank: 1 - Mean test score: 0.5836052836052835 \n",
      "With hyperparameters: {'base_estimator': DecisionTreeClassifier(), 'learning_rate': 1.0, 'n_estimators': 55}\n",
      "Rank: 1 - Mean test score: 0.5836052836052835 \n",
      "With hyperparameters: {'base_estimator': DecisionTreeClassifier(), 'learning_rate': 0.5, 'n_estimators': 577}\n",
      "Rank: 1 - Mean test score: 0.5836052836052835 \n",
      "With hyperparameters: {'base_estimator': DecisionTreeClassifier(), 'learning_rate': 1.5, 'n_estimators': 198}\n",
      "Rank: 1 - Mean test score: 0.5836052836052835 \n",
      "With hyperparameters: {'base_estimator': DecisionTreeClassifier(), 'learning_rate': 0.5, 'n_estimators': 301}\n",
      "Rank: 1 - Mean test score: 0.5836052836052835 \n",
      "With hyperparameters: {'base_estimator': DecisionTreeClassifier(), 'learning_rate': 1.0, 'n_estimators': 475}\n",
      "Rank: 1 - Mean test score: 0.5836052836052835 \n",
      "With hyperparameters: {'base_estimator': DecisionTreeClassifier(), 'learning_rate': 0.5, 'n_estimators': 561}\n",
      "Rank: 1 - Mean test score: 0.5836052836052835 \n",
      "With hyperparameters: {'base_estimator': DecisionTreeClassifier(), 'learning_rate': 1.5, 'n_estimators': 585}\n",
      "Rank: 1 - Mean test score: 0.5836052836052835 \n",
      "With hyperparameters: {'base_estimator': DecisionTreeClassifier(), 'learning_rate': 0.5, 'n_estimators': 547}\n",
      "Rank: 1 - Mean test score: 0.5836052836052835 \n",
      "With hyperparameters: {'base_estimator': DecisionTreeClassifier(), 'learning_rate': 1.5, 'n_estimators': 783}\n",
      "Rank: 1 - Mean test score: 0.5836052836052835 \n",
      "With hyperparameters: {'base_estimator': DecisionTreeClassifier(), 'learning_rate': 0.5, 'n_estimators': 730}\n",
      "Rank: 1 - Mean test score: 0.5836052836052835 \n",
      "With hyperparameters: {'base_estimator': DecisionTreeClassifier(), 'learning_rate': 0.5, 'n_estimators': 763}\n",
      "Rank: 1 - Mean test score: 0.5836052836052835 \n",
      "With hyperparameters: {'base_estimator': DecisionTreeClassifier(), 'learning_rate': 0.5, 'n_estimators': 425}\n",
      "Rank: 1 - Mean test score: 0.5836052836052835 \n",
      "With hyperparameters: {'base_estimator': DecisionTreeClassifier(), 'learning_rate': 0.5, 'n_estimators': 738}\n"
     ]
    }
   ],
   "source": [
    "# RANDOMIZED SEARCH\n",
    "if \"AdaBoost\" in top_models.keys():\n",
    "    ab_param_distribs = {\n",
    "            'base_estimator': [\n",
    "                DecisionTreeClassifier()\n",
    "                               ],\n",
    "            'n_estimators': randint(low=50, high=801),\n",
    "            'learning_rate': [0.5, 1., 1.5, 2.]\n",
    "        }\n",
    "\n",
    "    ab_rnd_search = RandomizedSearchCV(AdaBoostClassifier(random_state=SEED), \n",
    "                                    param_distributions=ab_param_distribs,\n",
    "                                    n_iter=RND_SEARCH_N_ITER, \n",
    "                                    cv=CV_FOLDS, \n",
    "                                    scoring=test_scorer)\n",
    "    ab_rnd_search.fit(scaffolds_predictors_prepared, scaffolds_label)\n",
    "    print_cv_scores(ab_rnd_search.cv_results_)\n",
    "\n",
    "    rnd_fine_tuned_models[\"AdaBoost\"] = ab_rnd_search.best_estimator_ "
   ]
  },
  {
   "cell_type": "code",
   "execution_count": 67,
   "id": "6124bd54",
   "metadata": {
    "scrolled": true
   },
   "outputs": [
    {
     "name": "stdout",
     "output_type": "stream",
     "text": [
      "Rank: 1 - Mean test score: 0.5836052836052835 \n",
      "With hyperparameters: {'base_estimator': DecisionTreeClassifier(), 'learning_rate': 0.5, 'n_estimators': 50}\n",
      "Rank: 1 - Mean test score: 0.5836052836052835 \n",
      "With hyperparameters: {'base_estimator': DecisionTreeClassifier(), 'learning_rate': 0.5, 'n_estimators': 200}\n",
      "Rank: 1 - Mean test score: 0.5836052836052835 \n",
      "With hyperparameters: {'base_estimator': DecisionTreeClassifier(), 'learning_rate': 0.5, 'n_estimators': 350}\n",
      "Rank: 1 - Mean test score: 0.5836052836052835 \n",
      "With hyperparameters: {'base_estimator': DecisionTreeClassifier(), 'learning_rate': 0.5, 'n_estimators': 500}\n",
      "Rank: 1 - Mean test score: 0.5836052836052835 \n",
      "With hyperparameters: {'base_estimator': DecisionTreeClassifier(), 'learning_rate': 0.5, 'n_estimators': 650}\n",
      "Rank: 1 - Mean test score: 0.5836052836052835 \n",
      "With hyperparameters: {'base_estimator': DecisionTreeClassifier(), 'learning_rate': 0.5, 'n_estimators': 800}\n",
      "Rank: 1 - Mean test score: 0.5836052836052835 \n",
      "With hyperparameters: {'base_estimator': DecisionTreeClassifier(), 'learning_rate': 1.0, 'n_estimators': 50}\n",
      "Rank: 1 - Mean test score: 0.5836052836052835 \n",
      "With hyperparameters: {'base_estimator': DecisionTreeClassifier(), 'learning_rate': 1.0, 'n_estimators': 200}\n",
      "Rank: 1 - Mean test score: 0.5836052836052835 \n",
      "With hyperparameters: {'base_estimator': DecisionTreeClassifier(), 'learning_rate': 1.0, 'n_estimators': 350}\n",
      "Rank: 1 - Mean test score: 0.5836052836052835 \n",
      "With hyperparameters: {'base_estimator': DecisionTreeClassifier(), 'learning_rate': 1.0, 'n_estimators': 500}\n",
      "Rank: 1 - Mean test score: 0.5836052836052835 \n",
      "With hyperparameters: {'base_estimator': DecisionTreeClassifier(), 'learning_rate': 1.0, 'n_estimators': 650}\n",
      "Rank: 1 - Mean test score: 0.5836052836052835 \n",
      "With hyperparameters: {'base_estimator': DecisionTreeClassifier(), 'learning_rate': 1.0, 'n_estimators': 800}\n",
      "Rank: 1 - Mean test score: 0.5836052836052835 \n",
      "With hyperparameters: {'base_estimator': DecisionTreeClassifier(), 'learning_rate': 1.5, 'n_estimators': 50}\n",
      "Rank: 1 - Mean test score: 0.5836052836052835 \n",
      "With hyperparameters: {'base_estimator': DecisionTreeClassifier(), 'learning_rate': 1.5, 'n_estimators': 200}\n",
      "Rank: 1 - Mean test score: 0.5836052836052835 \n",
      "With hyperparameters: {'base_estimator': DecisionTreeClassifier(), 'learning_rate': 1.5, 'n_estimators': 350}\n",
      "Rank: 1 - Mean test score: 0.5836052836052835 \n",
      "With hyperparameters: {'base_estimator': DecisionTreeClassifier(), 'learning_rate': 1.5, 'n_estimators': 500}\n",
      "Rank: 1 - Mean test score: 0.5836052836052835 \n",
      "With hyperparameters: {'base_estimator': DecisionTreeClassifier(), 'learning_rate': 1.5, 'n_estimators': 650}\n",
      "Rank: 1 - Mean test score: 0.5836052836052835 \n",
      "With hyperparameters: {'base_estimator': DecisionTreeClassifier(), 'learning_rate': 1.5, 'n_estimators': 800}\n",
      "Rank: 1 - Mean test score: 0.5836052836052835 \n",
      "With hyperparameters: {'base_estimator': DecisionTreeClassifier(), 'learning_rate': 2.0, 'n_estimators': 50}\n",
      "Rank: 1 - Mean test score: 0.5836052836052835 \n",
      "With hyperparameters: {'base_estimator': DecisionTreeClassifier(), 'learning_rate': 2.0, 'n_estimators': 200}\n",
      "Rank: 1 - Mean test score: 0.5836052836052835 \n",
      "With hyperparameters: {'base_estimator': DecisionTreeClassifier(), 'learning_rate': 2.0, 'n_estimators': 350}\n",
      "Rank: 1 - Mean test score: 0.5836052836052835 \n",
      "With hyperparameters: {'base_estimator': DecisionTreeClassifier(), 'learning_rate': 2.0, 'n_estimators': 500}\n",
      "Rank: 1 - Mean test score: 0.5836052836052835 \n",
      "With hyperparameters: {'base_estimator': DecisionTreeClassifier(), 'learning_rate': 2.0, 'n_estimators': 650}\n",
      "Rank: 1 - Mean test score: 0.5836052836052835 \n",
      "With hyperparameters: {'base_estimator': DecisionTreeClassifier(), 'learning_rate': 2.0, 'n_estimators': 800}\n"
     ]
    }
   ],
   "source": [
    "# GRID SEARCH\n",
    "if \"AdaBoost\" in top_models.keys():\n",
    "    ab_param_grid = {\n",
    "            'base_estimator': [\n",
    "                DecisionTreeClassifier()\n",
    "                               ],\n",
    "            'n_estimators': [50, 200, 350, 500, 650, 800],\n",
    "            'learning_rate': [0.5, 1., 1.5, 2.]\n",
    "        }\n",
    "\n",
    "    ab_grid_search = GridSearchCV(AdaBoostClassifier(random_state=SEED), \n",
    "                                    param_grid=ab_param_grid,\n",
    "                                    cv=CV_FOLDS, \n",
    "                                    scoring=test_scorer)\n",
    "    ab_grid_search.fit(scaffolds_predictors_prepared, scaffolds_label)\n",
    "    print_cv_scores(ab_grid_search.cv_results_)\n",
    "\n",
    "    grid_fine_tuned_models[\"AdaBoost\"] = ab_grid_search.best_estimator_ "
   ]
  },
  {
   "cell_type": "markdown",
   "id": "b5cc05b0",
   "metadata": {},
   "source": [
    "#### Bagging"
   ]
  },
  {
   "cell_type": "code",
   "execution_count": 68,
   "id": "1547da0d",
   "metadata": {},
   "outputs": [],
   "source": [
    "# RANDOMIZED SEARCH\n",
    "if \"Bagging\" in top_models.keys():\n",
    "    bagging_param_distribs = {\n",
    "            'base_estimator': [\n",
    "                DecisionTreeClassifier()\n",
    "                               ],\n",
    "            'n_estimators': randint(low=10, high=801),\n",
    "            'max_samples': [0.25, 0.5, 0.75, 1.],\n",
    "            'max_features': [0.25, 0.5, 0.75, 1.],\n",
    "            'bootstrap': [True, False]\n",
    "        }\n",
    "\n",
    "    bagging_rnd_search = RandomizedSearchCV(BaggingClassifier(random_state=SEED), \n",
    "                                    param_distributions=bagging_param_distribs,\n",
    "                                    n_iter=RND_SEARCH_N_ITER, \n",
    "                                    cv=CV_FOLDS, \n",
    "                                    scoring=test_scorer\n",
    "                                    )\n",
    "    bagging_rnd_search.fit(scaffolds_predictors_prepared, scaffolds_label)\n",
    "    print_cv_scores(bagging_rnd_search.cv_results_)\n",
    "\n",
    "    rnd_fine_tuned_models[\"Bagging\"] = bagging_rnd_search.best_estimator_ "
   ]
  },
  {
   "cell_type": "code",
   "execution_count": 69,
   "id": "f2d1e328",
   "metadata": {},
   "outputs": [],
   "source": [
    "# GRID SEARCH\n",
    "if \"Bagging\" in top_models.keys():\n",
    "    bagging_param_grid = {\n",
    "            'base_estimator': [\n",
    "                DecisionTreeClassifier()\n",
    "                               ],\n",
    "            'n_estimators': [50, 250, 500, 800],\n",
    "            'max_samples': [0.25, 0.5, 0.75, 1.],\n",
    "            'max_features': [0.25, 0.5, 0.75, 1.],\n",
    "            'bootstrap': [True, False]\n",
    "    }\n",
    "\n",
    "    bagging_grid_search = GridSearchCV(BaggingClassifier(random_state=SEED), \n",
    "                                    param_grid=bagging_param_grid,\n",
    "                                    cv=CV_FOLDS, \n",
    "                                    scoring=test_scorer)\n",
    "    bagging_grid_search.fit(scaffolds_predictors_prepared, scaffolds_label)\n",
    "    print_cv_scores(bagging_grid_search.cv_results_)\n",
    "\n",
    "    grid_fine_tuned_models[\"Bagging\"] = bagging_grid_search.best_estimator_ "
   ]
  },
  {
   "cell_type": "markdown",
   "id": "491f970c",
   "metadata": {},
   "source": [
    "#### Decision Tree"
   ]
  },
  {
   "cell_type": "code",
   "execution_count": 70,
   "id": "6e79d819",
   "metadata": {
    "scrolled": true
   },
   "outputs": [],
   "source": [
    "# RANDOMIZED SEARCH\n",
    "if \"Decision Tree\" in top_models.keys():\n",
    "    tree_param_distribs = {\n",
    "            'criterion': [\"gini\",\"entropy\"],\n",
    "            'max_depth': randint(low=2, high=81),\n",
    "            'min_samples_split': randint(low=2, high=8),\n",
    "            'min_samples_leaf': randint(low=1, high=8)\n",
    "        }\n",
    "\n",
    "    tree_rnd_search = RandomizedSearchCV(DecisionTreeClassifier(random_state=SEED), \n",
    "                                    param_distributions=tree_param_distribs,\n",
    "                                    n_iter=RND_SEARCH_N_ITER, \n",
    "                                    cv=CV_FOLDS, \n",
    "                                    scoring=test_scorer\n",
    "                                    )\n",
    "    tree_rnd_search.fit(scaffolds_predictors_prepared, scaffolds_label)\n",
    "    print_cv_scores(tree_rnd_search.cv_results_)\n",
    "\n",
    "    rnd_fine_tuned_models[\"Decision Tree\"] = tree_rnd_search.best_estimator_ "
   ]
  },
  {
   "cell_type": "code",
   "execution_count": 71,
   "id": "aed9ef99",
   "metadata": {},
   "outputs": [],
   "source": [
    "# GRID SEARCH\n",
    "if \"Decision Tree\" in top_models.keys():\n",
    "    tree_param_grid = {\n",
    "            'criterion': [\"gini\",\"entropy\"],\n",
    "            'max_depth': [5,10,20,40,80],\n",
    "            'min_samples_split': [2,5,7],\n",
    "            'min_samples_leaf': [1,4,7]\n",
    "        }\n",
    "\n",
    "    tree_grid_search = GridSearchCV(DecisionTreeClassifier(random_state=SEED), \n",
    "                                    param_grid = tree_param_grid,\n",
    "                                    cv=CV_FOLDS, \n",
    "                                    scoring=test_scorer)\n",
    "    tree_grid_search.fit(scaffolds_predictors_prepared, scaffolds_label)\n",
    "    print_cv_scores(tree_grid_search.cv_results_)\n",
    "\n",
    "    grid_fine_tuned_models[\"Decision Tree\"] = tree_grid_search.best_estimator_ "
   ]
  },
  {
   "cell_type": "markdown",
   "id": "40f5a7ec",
   "metadata": {},
   "source": [
    "#### Extra Trees"
   ]
  },
  {
   "cell_type": "code",
   "execution_count": 72,
   "id": "88874a22",
   "metadata": {
    "scrolled": true
   },
   "outputs": [
    {
     "name": "stdout",
     "output_type": "stream",
     "text": [
      "Rank: 4 - Mean test score: 0.0 \n",
      "With hyperparameters: {'max_depth': 60, 'min_samples_leaf': 3, 'min_samples_split': 7, 'n_estimators': 174}\n",
      "Rank: 4 - Mean test score: 0.0 \n",
      "With hyperparameters: {'max_depth': 44, 'min_samples_leaf': 4, 'min_samples_split': 4, 'n_estimators': 770}\n",
      "Rank: 4 - Mean test score: 0.0 \n",
      "With hyperparameters: {'max_depth': 10, 'min_samples_leaf': 3, 'min_samples_split': 2, 'n_estimators': 188}\n",
      "Rank: 4 - Mean test score: 0.0 \n",
      "With hyperparameters: {'max_depth': 75, 'min_samples_leaf': 7, 'min_samples_split': 6, 'n_estimators': 298}\n",
      "Rank: 4 - Mean test score: 0.0 \n",
      "With hyperparameters: {'max_depth': 35, 'min_samples_leaf': 2, 'min_samples_split': 4, 'n_estimators': 520}\n",
      "Rank: 4 - Mean test score: 0.0 \n",
      "With hyperparameters: {'max_depth': 39, 'min_samples_leaf': 7, 'min_samples_split': 4, 'n_estimators': 439}\n",
      "Rank: 4 - Mean test score: 0.0 \n",
      "With hyperparameters: {'max_depth': 16, 'min_samples_leaf': 4, 'min_samples_split': 6, 'n_estimators': 535}\n",
      "Rank: 4 - Mean test score: 0.0 \n",
      "With hyperparameters: {'max_depth': 55, 'min_samples_leaf': 6, 'min_samples_split': 4, 'n_estimators': 728}\n",
      "Rank: 4 - Mean test score: 0.0 \n",
      "With hyperparameters: {'max_depth': 63, 'min_samples_leaf': 7, 'min_samples_split': 5, 'n_estimators': 381}\n",
      "Rank: 4 - Mean test score: 0.0 \n",
      "With hyperparameters: {'max_depth': 80, 'min_samples_leaf': 3, 'min_samples_split': 2, 'n_estimators': 230}\n",
      "Rank: 4 - Mean test score: 0.0 \n",
      "With hyperparameters: {'max_depth': 23, 'min_samples_leaf': 4, 'min_samples_split': 4, 'n_estimators': 428}\n",
      "Rank: 4 - Mean test score: 0.0 \n",
      "With hyperparameters: {'max_depth': 53, 'min_samples_leaf': 2, 'min_samples_split': 7, 'n_estimators': 450}\n",
      "Rank: 4 - Mean test score: 0.0 \n",
      "With hyperparameters: {'max_depth': 20, 'min_samples_leaf': 4, 'min_samples_split': 7, 'n_estimators': 641}\n",
      "Rank: 4 - Mean test score: 0.0 \n",
      "With hyperparameters: {'max_depth': 49, 'min_samples_leaf': 6, 'min_samples_split': 5, 'n_estimators': 462}\n",
      "Rank: 4 - Mean test score: 0.0 \n",
      "With hyperparameters: {'max_depth': 56, 'min_samples_leaf': 7, 'min_samples_split': 3, 'n_estimators': 156}\n",
      "Rank: 4 - Mean test score: 0.0 \n",
      "With hyperparameters: {'max_depth': 18, 'min_samples_leaf': 6, 'min_samples_split': 5, 'n_estimators': 385}\n",
      "Rank: 4 - Mean test score: 0.0 \n",
      "With hyperparameters: {'max_depth': 78, 'min_samples_leaf': 6, 'min_samples_split': 7, 'n_estimators': 109}\n",
      "Rank: 4 - Mean test score: 0.0 \n",
      "With hyperparameters: {'max_depth': 26, 'min_samples_leaf': 2, 'min_samples_split': 2, 'n_estimators': 289}\n",
      "Rank: 4 - Mean test score: 0.0 \n",
      "With hyperparameters: {'max_depth': 55, 'min_samples_leaf': 5, 'min_samples_split': 2, 'n_estimators': 383}\n",
      "Rank: 4 - Mean test score: 0.0 \n",
      "With hyperparameters: {'max_depth': 53, 'min_samples_leaf': 3, 'min_samples_split': 6, 'n_estimators': 402}\n",
      "Rank: 4 - Mean test score: 0.0 \n",
      "With hyperparameters: {'max_depth': 45, 'min_samples_leaf': 5, 'min_samples_split': 6, 'n_estimators': 580}\n",
      "Rank: 4 - Mean test score: 0.0 \n",
      "With hyperparameters: {'max_depth': 60, 'min_samples_leaf': 2, 'min_samples_split': 6, 'n_estimators': 100}\n",
      "Rank: 4 - Mean test score: 0.0 \n",
      "With hyperparameters: {'max_depth': 74, 'min_samples_leaf': 3, 'min_samples_split': 6, 'n_estimators': 457}\n",
      "Rank: 1 - Mean test score: 0.5143434343434343 \n",
      "With hyperparameters: {'max_depth': 50, 'min_samples_leaf': 1, 'min_samples_split': 4, 'n_estimators': 752}\n",
      "Rank: 4 - Mean test score: 0.0 \n",
      "With hyperparameters: {'max_depth': 17, 'min_samples_leaf': 5, 'min_samples_split': 4, 'n_estimators': 183}\n",
      "Rank: 4 - Mean test score: 0.0 \n",
      "With hyperparameters: {'max_depth': 63, 'min_samples_leaf': 5, 'min_samples_split': 6, 'n_estimators': 609}\n",
      "Rank: 4 - Mean test score: 0.0 \n",
      "With hyperparameters: {'max_depth': 47, 'min_samples_leaf': 6, 'min_samples_split': 7, 'n_estimators': 89}\n",
      "Rank: 2 - Mean test score: 0.46333333333333326 \n",
      "With hyperparameters: {'max_depth': 27, 'min_samples_leaf': 1, 'min_samples_split': 6, 'n_estimators': 777}\n",
      "Rank: 3 - Mean test score: 0.3754545454545454 \n",
      "With hyperparameters: {'max_depth': 13, 'min_samples_leaf': 1, 'min_samples_split': 2, 'n_estimators': 56}\n",
      "Rank: 4 - Mean test score: 0.0 \n",
      "With hyperparameters: {'max_depth': 51, 'min_samples_leaf': 7, 'min_samples_split': 5, 'n_estimators': 574}\n",
      "Rank: 4 - Mean test score: 0.0 \n",
      "With hyperparameters: {'max_depth': 78, 'min_samples_leaf': 7, 'min_samples_split': 7, 'n_estimators': 571}\n",
      "Rank: 4 - Mean test score: 0.0 \n",
      "With hyperparameters: {'max_depth': 3, 'min_samples_leaf': 4, 'min_samples_split': 3, 'n_estimators': 345}\n",
      "Rank: 4 - Mean test score: 0.0 \n",
      "With hyperparameters: {'max_depth': 32, 'min_samples_leaf': 4, 'min_samples_split': 4, 'n_estimators': 645}\n",
      "Rank: 4 - Mean test score: 0.0 \n",
      "With hyperparameters: {'max_depth': 51, 'min_samples_leaf': 7, 'min_samples_split': 6, 'n_estimators': 97}\n",
      "Rank: 4 - Mean test score: 0.0 \n",
      "With hyperparameters: {'max_depth': 76, 'min_samples_leaf': 5, 'min_samples_split': 3, 'n_estimators': 356}\n",
      "Rank: 4 - Mean test score: 0.0 \n",
      "With hyperparameters: {'max_depth': 27, 'min_samples_leaf': 2, 'min_samples_split': 2, 'n_estimators': 571}\n",
      "Rank: 4 - Mean test score: 0.0 \n",
      "With hyperparameters: {'max_depth': 6, 'min_samples_leaf': 4, 'min_samples_split': 6, 'n_estimators': 337}\n",
      "Rank: 4 - Mean test score: 0.0 \n",
      "With hyperparameters: {'max_depth': 80, 'min_samples_leaf': 4, 'min_samples_split': 5, 'n_estimators': 518}\n",
      "Rank: 4 - Mean test score: 0.0 \n",
      "With hyperparameters: {'max_depth': 78, 'min_samples_leaf': 7, 'min_samples_split': 6, 'n_estimators': 57}\n",
      "Rank: 4 - Mean test score: 0.0 \n",
      "With hyperparameters: {'max_depth': 13, 'min_samples_leaf': 4, 'min_samples_split': 2, 'n_estimators': 610}\n",
      "Rank: 4 - Mean test score: 0.0 \n",
      "With hyperparameters: {'max_depth': 22, 'min_samples_leaf': 5, 'min_samples_split': 3, 'n_estimators': 237}\n",
      "Rank: 4 - Mean test score: 0.0 \n",
      "With hyperparameters: {'max_depth': 48, 'min_samples_leaf': 3, 'min_samples_split': 4, 'n_estimators': 206}\n",
      "Rank: 4 - Mean test score: 0.0 \n",
      "With hyperparameters: {'max_depth': 17, 'min_samples_leaf': 6, 'min_samples_split': 2, 'n_estimators': 109}\n",
      "Rank: 4 - Mean test score: 0.0 \n",
      "With hyperparameters: {'max_depth': 26, 'min_samples_leaf': 5, 'min_samples_split': 4, 'n_estimators': 574}\n",
      "Rank: 4 - Mean test score: 0.0 \n",
      "With hyperparameters: {'max_depth': 37, 'min_samples_leaf': 7, 'min_samples_split': 5, 'n_estimators': 553}\n",
      "Rank: 4 - Mean test score: 0.0 \n",
      "With hyperparameters: {'max_depth': 38, 'min_samples_leaf': 5, 'min_samples_split': 3, 'n_estimators': 323}\n",
      "Rank: 4 - Mean test score: 0.0 \n",
      "With hyperparameters: {'max_depth': 22, 'min_samples_leaf': 4, 'min_samples_split': 3, 'n_estimators': 249}\n",
      "Rank: 4 - Mean test score: 0.0 \n",
      "With hyperparameters: {'max_depth': 80, 'min_samples_leaf': 4, 'min_samples_split': 7, 'n_estimators': 716}\n",
      "Rank: 4 - Mean test score: 0.0 \n",
      "With hyperparameters: {'max_depth': 8, 'min_samples_leaf': 6, 'min_samples_split': 4, 'n_estimators': 129}\n",
      "Rank: 4 - Mean test score: 0.0 \n",
      "With hyperparameters: {'max_depth': 40, 'min_samples_leaf': 4, 'min_samples_split': 5, 'n_estimators': 721}\n"
     ]
    }
   ],
   "source": [
    "# RANDOMIZED SEARCH\n",
    "if \"Extra Trees\" in top_models.keys():\n",
    "    extra_param_distribs = {\n",
    "            'n_estimators': randint(low=50, high=801),\n",
    "            'max_depth': randint(low=2,high=81),\n",
    "            'min_samples_split': randint(low=2, high=8),\n",
    "            'min_samples_leaf': randint(low=1, high=8)\n",
    "        }\n",
    "\n",
    "    extra_rnd_search = RandomizedSearchCV(ExtraTreesClassifier(random_state=SEED), \n",
    "                                    param_distributions=extra_param_distribs,\n",
    "                                    n_iter=RND_SEARCH_N_ITER, \n",
    "                                    cv=CV_FOLDS, \n",
    "                                    scoring=test_scorer\n",
    "                                    )\n",
    "    extra_rnd_search.fit(scaffolds_predictors_prepared, scaffolds_label)\n",
    "    print_cv_scores(extra_rnd_search.cv_results_)\n",
    "\n",
    "    rnd_fine_tuned_models[\"Extra Trees\"] = extra_rnd_search.best_estimator_"
   ]
  },
  {
   "cell_type": "code",
   "execution_count": null,
   "id": "882eca5c",
   "metadata": {},
   "outputs": [],
   "source": [
    "# GRID SEARCH\n",
    "if \"Extra Trees\" in top_models.keys():\n",
    "    extra_param_grid = {\n",
    "            'n_estimators': [50, 250, 500, 800],\n",
    "            'max_depth': [5,10,20,40,80],\n",
    "            'min_samples_split': [2,5,7],\n",
    "            'min_samples_leaf': [1,4,7]\n",
    "        }\n",
    "\n",
    "    extra_grid_search = GridSearchCV(ExtraTreesClassifier(random_state=SEED), \n",
    "                                    param_grid = extra_param_grid,\n",
    "                                    cv=CV_FOLDS, \n",
    "                                    scoring=test_scorer)\n",
    "    extra_grid_search.fit(scaffolds_predictors_prepared, scaffolds_label)\n",
    "    print_cv_scores(extra_grid_search.cv_results_)\n",
    "\n",
    "    grid_fine_tuned_models[\"Extra Trees\"] = extra_grid_search.best_estimator_ "
   ]
  },
  {
   "cell_type": "markdown",
   "id": "aca6c3e5",
   "metadata": {},
   "source": [
    "#### Gradient Boosting"
   ]
  },
  {
   "cell_type": "code",
   "execution_count": null,
   "id": "2a3d478d",
   "metadata": {},
   "outputs": [],
   "source": [
    "# RANDOMIZED SEARCH\n",
    "if \"Gradient Boosting\" in top_models.keys():\n",
    "    gb_param_distribs = {\n",
    "            'n_estimators': randint(low=50, high=801),\n",
    "            'max_depth': randint(low=2,high=81),\n",
    "            'min_samples_split': randint(low=2, high=8),\n",
    "            'min_samples_leaf': randint(low=1, high=8)\n",
    "        }\n",
    "\n",
    "    gb_rnd_search = RandomizedSearchCV(GradientBoostingClassifier(random_state=SEED), \n",
    "                                    param_distributions=gb_param_distribs,\n",
    "                                    n_iter=RND_SEARCH_N_ITER, \n",
    "                                    cv=CV_FOLDS, \n",
    "                                    scoring=test_scorer\n",
    "                                    )\n",
    "    gb_rnd_search.fit(scaffolds_predictors_prepared, scaffolds_label)\n",
    "    print_cv_scores(gb_rnd_search.cv_results_)\n",
    "\n",
    "    rnd_fine_tuned_models[\"Gradient Boosting\"] = gb_rnd_search.best_estimator_"
   ]
  },
  {
   "cell_type": "code",
   "execution_count": null,
   "id": "01545cb6",
   "metadata": {},
   "outputs": [],
   "source": [
    "# GRID SEARCH\n",
    "if \"Gradient Boosting\" in top_models.keys():\n",
    "    gb_param_grid = {\n",
    "            'n_estimators': [50, 250, 500, 800],\n",
    "            'max_depth': [5,10,20,40,80],\n",
    "            'min_samples_split': [2,5,7],\n",
    "            'min_samples_leaf': [1,4,7]\n",
    "        }\n",
    "\n",
    "    gb_grid_search = GridSearchCV(GradientBoostingClassifier(random_state=SEED), \n",
    "                                    param_grid = gb_param_grid,\n",
    "                                    cv=CV_FOLDS, \n",
    "                                    scoring=test_scorer)\n",
    "    gb_grid_search.fit(scaffolds_predictors_prepared, scaffolds_label)\n",
    "    print_cv_scores(gb_grid_search.cv_results_)\n",
    "\n",
    "    grid_fine_tuned_models[\"Gradient Boosting\"] = gb_grid_search.best_estimator_ "
   ]
  },
  {
   "cell_type": "markdown",
   "id": "5df4fc5a",
   "metadata": {},
   "source": [
    "#### Random Forest"
   ]
  },
  {
   "cell_type": "code",
   "execution_count": null,
   "id": "f346c139",
   "metadata": {
    "scrolled": true
   },
   "outputs": [],
   "source": [
    "# RANDOMIZED SEARCH\n",
    "if \"Random Forest\" in top_models.keys():\n",
    "    forest_param_distribs = {\n",
    "            'n_estimators': randint(low=50, high=801),\n",
    "            'max_depth': randint(low=2,high=81),\n",
    "            'min_samples_split': randint(low=2, high=8),\n",
    "            'min_samples_leaf': randint(low=1, high=8)\n",
    "        }\n",
    "\n",
    "    forest_rnd_search = RandomizedSearchCV(RandomForestClassifier(random_state=SEED), \n",
    "                                    param_distributions=forest_param_distribs,\n",
    "                                    n_iter=RND_SEARCH_N_ITER, \n",
    "                                    cv=CV_FOLDS, \n",
    "                                    scoring=test_scorer\n",
    "                                    )\n",
    "    forest_rnd_search.fit(scaffolds_predictors_prepared, scaffolds_label)\n",
    "    print_cv_scores(forest_rnd_search.cv_results_)\n",
    "\n",
    "    rnd_fine_tuned_models[\"Random Forest\"] = forest_rnd_search.best_estimator_"
   ]
  },
  {
   "cell_type": "code",
   "execution_count": null,
   "id": "7461db0b",
   "metadata": {},
   "outputs": [],
   "source": [
    "# GRID SEARCH\n",
    "if \"Random Forest\" in top_models.keys():\n",
    "    forest_param_grid = {\n",
    "            'n_estimators': [50, 250, 500, 800],\n",
    "            'max_depth': [5,10,20,40,80],\n",
    "            'min_samples_split': [2,5,7],\n",
    "            'min_samples_leaf': [1,4,7]\n",
    "        }\n",
    "\n",
    "    forest_grid_search = GridSearchCV(RandomForestClassifier(random_state=SEED), \n",
    "                                    param_grid = forest_param_grid,\n",
    "                                    cv=CV_FOLDS, \n",
    "                                    scoring=test_scorer)\n",
    "    forest_grid_search.fit(scaffolds_predictors_prepared, scaffolds_label)\n",
    "    print_cv_scores(forest_grid_search.cv_results_)\n",
    "\n",
    "    grid_fine_tuned_models[\"Random Forest\"] = forest_grid_search.best_estimator_ "
   ]
  },
  {
   "cell_type": "markdown",
   "id": "474cd108",
   "metadata": {},
   "source": [
    "### 6.2 Estimate the generalization error"
   ]
  },
  {
   "cell_type": "markdown",
   "id": "582f9987",
   "metadata": {},
   "source": [
    "Do NOT tweak your model after measuring the generalization error due to risk of overfitting the test set"
   ]
  },
  {
   "cell_type": "code",
   "execution_count": null,
   "id": "b622442e",
   "metadata": {},
   "outputs": [],
   "source": [
    "# Work on copies of the test data\n",
    "test_scaffolds_predictors = X_test.copy()\n",
    "test_scaffolds_label = y_test.copy()\n",
    "\n",
    "# Transform the test predictor data\n",
    "test_scaffolds_predictors_prepared = full_pipeline.fit_transform(test_scaffolds_predictors)"
   ]
  },
  {
   "cell_type": "markdown",
   "id": "28fc7106",
   "metadata": {},
   "source": [
    "#### Performance of the top models"
   ]
  },
  {
   "cell_type": "code",
   "execution_count": null,
   "id": "13cd731a",
   "metadata": {},
   "outputs": [],
   "source": [
    "for model_name, model in top_models.items():\n",
    "    test_pred = model.predict(test_scaffolds_predictors_prepared)\n",
    "    print(\"{}: F1-Score({}) - Precision({}) - Recall({}) \".format(model_name,\n",
    "                                                                  f1_score(test_scaffolds_label, test_pred),\n",
    "                                                                  precision_score(test_scaffolds_label, test_pred),\n",
    "                                                                  recall_score(test_scaffolds_label, test_pred)))"
   ]
  },
  {
   "cell_type": "markdown",
   "id": "6abd1b4c",
   "metadata": {},
   "source": [
    "#### Performance of the top models fine-tuned with Randomized Search"
   ]
  },
  {
   "cell_type": "code",
   "execution_count": null,
   "id": "f9e114a3",
   "metadata": {
    "scrolled": true
   },
   "outputs": [],
   "source": [
    "for model_name, model in rnd_fine_tuned_models.items():\n",
    "    test_pred = model.predict(test_scaffolds_predictors_prepared)\n",
    "    print(\"{}: F1-Score({}) - Precision({}) - Recall({}) \".format(model_name,\n",
    "                                                                  f1_score(test_scaffolds_label, test_pred),\n",
    "                                                                  precision_score(test_scaffolds_label, test_pred),\n",
    "                                                                  recall_score(test_scaffolds_label, test_pred)))"
   ]
  },
  {
   "cell_type": "markdown",
   "id": "bb54f2bf",
   "metadata": {},
   "source": [
    "#### Performance of the top models fine-tuned with Grid Search"
   ]
  },
  {
   "cell_type": "code",
   "execution_count": null,
   "id": "afc19b84",
   "metadata": {
    "scrolled": true
   },
   "outputs": [],
   "source": [
    "for model_name, model in grid_fine_tuned_models.items():\n",
    "    test_pred = model.predict(test_scaffolds_predictors_prepared)\n",
    "    print(\"{}: F1-Score({}) - Precision({}) - Recall({}) \".format(model_name,\n",
    "                                                                  f1_score(test_scaffolds_label, test_pred),\n",
    "                                                                  precision_score(test_scaffolds_label, test_pred),\n",
    "                                                                  recall_score(test_scaffolds_label, test_pred)))"
   ]
  },
  {
   "cell_type": "markdown",
   "id": "b9b2a9c4",
   "metadata": {},
   "source": [
    "<a href='#0'>Back to ToC</a>"
   ]
  },
  {
   "cell_type": "markdown",
   "id": "d40fbc31",
   "metadata": {},
   "source": [
    "---\n",
    "<a id='7'></a>\n",
    "## 7. Present the Solution"
   ]
  },
  {
   "cell_type": "code",
   "execution_count": null,
   "id": "c338cd14",
   "metadata": {},
   "outputs": [],
   "source": []
  }
 ],
 "metadata": {
  "kernelspec": {
   "display_name": "Python 3",
   "language": "python",
   "name": "python3"
  },
  "language_info": {
   "codemirror_mode": {
    "name": "ipython",
    "version": 3
   },
   "file_extension": ".py",
   "mimetype": "text/x-python",
   "name": "python",
   "nbconvert_exporter": "python",
   "pygments_lexer": "ipython3",
   "version": "3.8.10"
  }
 },
 "nbformat": 4,
 "nbformat_minor": 5
}
